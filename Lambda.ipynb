{
 "cells": [
  {
   "cell_type": "code",
   "execution_count": 1,
   "metadata": {},
   "outputs": [
    {
     "name": "stdout",
     "output_type": "stream",
     "text": [
      "Requirement already up-to-date: uproot4 in /Library/Frameworks/Python.framework/Versions/3.8/lib/python3.8/site-packages (4.0.0)\n",
      "Requirement already up-to-date: awkward1 in /Library/Frameworks/Python.framework/Versions/3.8/lib/python3.8/site-packages (1.0.0)\n",
      "Requirement already up-to-date: particle in /Library/Frameworks/Python.framework/Versions/3.8/lib/python3.8/site-packages (0.14.0)\n",
      "Collecting boost-histogram\n",
      "\u001b[?25l  Downloading https://files.pythonhosted.org/packages/43/d2/b635003633ec092d27f9fc9e7bc0d7bcd6aadc6fdc9f336306476f6f110d/boost_histogram-0.13.0-cp38-cp38-macosx_10_9_x86_64.whl (1.5MB)\n",
      "\u001b[K     |████████████████████████████████| 1.5MB 2.7MB/s eta 0:00:01\n",
      "\u001b[?25hRequirement already up-to-date: matplotlib in /Users/audiobooks/Library/Python/3.8/lib/python/site-packages (3.3.4)\n",
      "Requirement already up-to-date: mplhep in /Users/audiobooks/Library/Python/3.8/lib/python/site-packages (0.2.16)\n",
      "Requirement already up-to-date: pandas in /Users/audiobooks/Library/Python/3.8/lib/python/site-packages (1.2.2)\n",
      "Requirement already up-to-date: numexpr in /Users/audiobooks/Library/Python/3.8/lib/python/site-packages (2.7.2)\n",
      "Requirement already up-to-date: autograd in /Library/Frameworks/Python.framework/Versions/3.8/lib/python3.8/site-packages (1.3)\n",
      "Requirement already up-to-date: hist in /Library/Frameworks/Python.framework/Versions/3.8/lib/python3.8/site-packages (2.0.1)\n",
      "Requirement already up-to-date: humanize in /Library/Frameworks/Python.framework/Versions/3.8/lib/python3.8/site-packages (3.2.0)\n",
      "Requirement already satisfied, skipping upgrade: uproot>=4.0.0 in /Library/Frameworks/Python.framework/Versions/3.8/lib/python3.8/site-packages (from uproot4) (4.0.0)\n",
      "Requirement already satisfied, skipping upgrade: awkward>=1.0.0 in /Library/Frameworks/Python.framework/Versions/3.8/lib/python3.8/site-packages (from awkward1) (1.0.2)\n",
      "Requirement already satisfied, skipping upgrade: hepunits>=2.0.0 in /Library/Frameworks/Python.framework/Versions/3.8/lib/python3.8/site-packages (from particle) (2.0.1)\n",
      "Requirement already satisfied, skipping upgrade: attrs>=19.2 in /Library/Frameworks/Python.framework/Versions/3.8/lib/python3.8/site-packages (from particle) (19.3.0)\n",
      "Requirement already satisfied, skipping upgrade: numpy>=1.13.3 in /Library/Frameworks/Python.framework/Versions/3.8/lib/python3.8/site-packages (from boost-histogram) (1.18.3)\n",
      "Requirement already satisfied, skipping upgrade: kiwisolver>=1.0.1 in /Library/Frameworks/Python.framework/Versions/3.8/lib/python3.8/site-packages (from matplotlib) (1.2.0)\n",
      "Requirement already satisfied, skipping upgrade: pillow>=6.2.0 in /Library/Frameworks/Python.framework/Versions/3.8/lib/python3.8/site-packages (from matplotlib) (8.1.0)\n",
      "Requirement already satisfied, skipping upgrade: pyparsing!=2.0.4,!=2.1.2,!=2.1.6,>=2.0.3 in /Library/Frameworks/Python.framework/Versions/3.8/lib/python3.8/site-packages (from matplotlib) (2.4.7)\n",
      "Requirement already satisfied, skipping upgrade: python-dateutil>=2.1 in /Library/Frameworks/Python.framework/Versions/3.8/lib/python3.8/site-packages (from matplotlib) (2.8.1)\n",
      "Requirement already satisfied, skipping upgrade: cycler>=0.10 in /Library/Frameworks/Python.framework/Versions/3.8/lib/python3.8/site-packages (from matplotlib) (0.10.0)\n",
      "Requirement already satisfied, skipping upgrade: requests~=2.21 in /Users/audiobooks/Library/Python/3.8/lib/python/site-packages (from mplhep) (2.24.0)\n",
      "Requirement already satisfied, skipping upgrade: scipy>=1.1.0 in /Library/Frameworks/Python.framework/Versions/3.8/lib/python3.8/site-packages (from mplhep) (1.4.1)\n",
      "Requirement already satisfied, skipping upgrade: packaging in /Users/audiobooks/Library/Python/3.8/lib/python/site-packages (from mplhep) (20.8)\n",
      "Requirement already satisfied, skipping upgrade: pytz>=2017.3 in /Library/Frameworks/Python.framework/Versions/3.8/lib/python3.8/site-packages (from pandas) (2020.4)\n",
      "Requirement already satisfied, skipping upgrade: future>=0.15.2 in /Library/Frameworks/Python.framework/Versions/3.8/lib/python3.8/site-packages (from autograd) (0.18.2)\n",
      "Requirement already satisfied, skipping upgrade: histoprint>=1.4 in /Library/Frameworks/Python.framework/Versions/3.8/lib/python3.8/site-packages (from hist) (1.5.2)\n",
      "Requirement already satisfied, skipping upgrade: setuptools in /Library/Frameworks/Python.framework/Versions/3.8/lib/python3.8/site-packages (from humanize) (41.2.0)\n",
      "Requirement already satisfied, skipping upgrade: six>=1.5 in /Library/Frameworks/Python.framework/Versions/3.8/lib/python3.8/site-packages (from python-dateutil>=2.1->matplotlib) (1.14.0)\n",
      "Requirement already satisfied, skipping upgrade: chardet<4,>=3.0.2 in /Users/audiobooks/Library/Python/3.8/lib/python/site-packages (from requests~=2.21->mplhep) (3.0.4)\n",
      "Requirement already satisfied, skipping upgrade: certifi>=2017.4.17 in /Users/audiobooks/Library/Python/3.8/lib/python/site-packages (from requests~=2.21->mplhep) (2020.6.20)\n",
      "Requirement already satisfied, skipping upgrade: urllib3!=1.25.0,!=1.25.1,<1.26,>=1.21.1 in /Users/audiobooks/Library/Python/3.8/lib/python/site-packages (from requests~=2.21->mplhep) (1.25.11)\n",
      "Requirement already satisfied, skipping upgrade: idna<3,>=2.5 in /Users/audiobooks/Library/Python/3.8/lib/python/site-packages (from requests~=2.21->mplhep) (2.10)\n",
      "Requirement already satisfied, skipping upgrade: click>=7.0.0 in /Library/Frameworks/Python.framework/Versions/3.8/lib/python3.8/site-packages (from histoprint>=1.4->hist) (7.1.2)\n",
      "\u001b[31mERROR: hist 2.0.1 has requirement boost-histogram~=0.11.0, but you'll have boost-histogram 0.13.0 which is incompatible.\u001b[0m\n",
      "Installing collected packages: boost-histogram\n",
      "  Found existing installation: boost-histogram 0.12.0\n",
      "    Uninstalling boost-histogram-0.12.0:\n",
      "      Successfully uninstalled boost-histogram-0.12.0\n",
      "Successfully installed boost-histogram-0.13.0\n",
      "\u001b[33mWARNING: You are using pip version 19.2.3, however version 21.0.1 is available.\n",
      "You should consider upgrading via the 'pip install --upgrade pip' command.\u001b[0m\n",
      "Note: you may need to restart the kernel to use updated packages.\n"
     ]
    }
   ],
   "source": [
    "pip install --upgrade --user uproot4 awkward1 particle boost-histogram matplotlib mplhep pandas numexpr autograd hist hist[plot] humanize"
   ]
  },
  {
   "cell_type": "code",
   "execution_count": null,
   "metadata": {},
   "outputs": [],
   "source": []
  }
 ],
 "metadata": {
  "kernelspec": {
   "display_name": "Python 3",
   "language": "python",
   "name": "python3"
  },
  "language_info": {
   "codemirror_mode": {
    "name": "ipython",
    "version": 3
   },
   "file_extension": ".py",
   "mimetype": "text/x-python",
   "name": "python",
   "nbconvert_exporter": "python",
   "pygments_lexer": "ipython3",
   "version": "3.8.2"
  }
 },
 "nbformat": 4,
 "nbformat_minor": 4
}
