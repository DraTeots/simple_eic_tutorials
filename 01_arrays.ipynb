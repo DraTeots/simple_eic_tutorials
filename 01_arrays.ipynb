{
 "nbformat": 4,
 "nbformat_minor": 2,
 "metadata": {
  "language_info": {
   "name": "python",
   "codemirror_mode": {
    "name": "ipython",
    "version": 3
   }
  },
  "orig_nbformat": 2,
  "file_extension": ".py",
  "mimetype": "text/x-python",
  "name": "python",
  "npconvert_exporter": "python",
  "pygments_lexer": "ipython3",
  "version": 3
 },
 "cells": [
  {
   "cell_type": "code",
   "outputs": [],
   "source": [
    "list_one = [1, 2, 3]\n",
    "list_two = [4, 5, 6]\n",
    "print(list_one + list_two)"
   ],
   "metadata": {},
   "execution_count": null
  }
 ]
}