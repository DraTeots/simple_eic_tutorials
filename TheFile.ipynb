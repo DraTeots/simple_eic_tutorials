{
 "cells": [
  {
   "cell_type": "markdown",
   "metadata": {
    "pycharm": {
     "name": "#%% md\n"
    }
   },
   "source": [
    "Run pip install if there is no uproot package:\n",
    "```bash\n",
    "pip install --upgrade uproot4 awkward1 particle boost-histogram matplotlib mplhep pandas numexpr autograd hist hist[plot] humanize\n",
    "```"
   ]
  },
  {
   "cell_type": "code",
   "execution_count": 3,
   "metadata": {},
   "outputs": [],
   "source": [
    "#!pip install --upgrade --user uproot4 awkward1 particle boost-histogram matplotlib mplhep pandas numexpr autograd hist hist[plot] humanize"
   ]
  },
  {
   "cell_type": "code",
   "execution_count": 4,
   "metadata": {
    "pycharm": {
     "name": "#%%\n"
    }
   },
   "outputs": [],
   "source": [
    "import uproot4\n",
    "from matplotlib import pyplot as p\n",
    "from hist import Hist\n",
    "import hist\n",
    "import awkward1 as ak\n",
    "import numpy as np\n",
    "import matplotlib.pyplot as plt\n",
    "from matplotlib.gridspec import GridSpec\n",
    "import matplotlib.image as mpimg\n",
    "\n",
    "# Pretty printing arrays\n",
    "from pprint import pprint"
   ]
  },
  {
   "cell_type": "code",
   "execution_count": 5,
   "metadata": {},
   "outputs": [
    {
     "data": {
      "text/plain": "[('events;1', <TTree 'events' (65 branches) at 0x026852b6b288>)]"
     },
     "execution_count": 5,
     "metadata": {},
     "output_type": "execute_result"
    }
   ],
   "source": [
    "\n",
    "\n",
    "file=uproot4.open(\"simple.root\")\n",
    "\n",
    "# To see all object names in the file:\n",
    "file.items()\n",
    "\n",
    "# only names: file.keys(), file.values()))\n",
    "\n",
    "# To see items in subdirectories\n",
    "# file.keys(recursive=True)\n",
    "\n",
    "# There are more functions related to file:\n",
    "# https://uproot.readthedocs.io/en/latest/uproot.reading.ReadOnlyFile.html\n",
    "\n",
    "# Root directories:\n",
    "# https://uproot.readthedocs.io/en/latest/uproot.reading.ReadOnlyDirectory.html\n",
    "\n",
    "# To read multiple files at once (aka TChain)\n",
    "# https://uproot.readthedocs.io/en/latest/basic.html#iterating-over-many-files\n"
   ]
  },
  {
   "cell_type": "code",
   "execution_count": 6,
   "metadata": {
    "pycharm": {
     "name": "#%%\n"
    }
   },
   "outputs": [
    {
     "name": "stdout",
     "output_type": "stream",
     "text": [
      "Number of entries: 261\n",
      "name                 | typename                 | interpretation                \n",
      "---------------------+--------------------------+-------------------------------\n",
      "event_id             | uint64_t                 | AsDtype('>u8')\n",
      "evt_true_q2          | double                   | AsDtype('>f8')\n",
      "evt_true_x           | double                   | AsDtype('>f8')\n",
      "evt_true_y           | double                   | AsDtype('>f8')\n",
      "evt_true_w2          | double                   | AsDtype('>f8')\n",
      "evt_true_nu          | double                   | AsDtype('>f8')\n",
      "evt_true_t_hat       | double                   | AsDtype('>f8')\n",
      "evt_has_dis_info     | int8_t                   | AsDtype('int8')\n",
      "evt_weight           | double                   | AsDtype('>f8')\n",
      "hit_count            | uint64_t                 | AsDtype('>u8')\n",
      "hit_id               | std::vector<uint64_t>    | AsJagged(AsDtype('>u8'), he...\n",
      "hit_trk_id           | std::vector<uint64_t>    | AsJagged(AsDtype('>u8'), he...\n",
      "hit_ptr_id           | std::vector<uint64_t>    | AsJagged(AsDtype('>u8'), he...\n",
      "hit_parent_trk_id    | std::vector<uint64_t>    | AsJagged(AsDtype('>u8'), he...\n",
      "hit_vol_name         | std::vector<std::string> | AsObjects(AsVector(True, As...\n",
      "hit_x                | std::vector<double>      | AsJagged(AsDtype('>f8'), he...\n",
      "hit_y                | std::vector<double>      | AsJagged(AsDtype('>f8'), he...\n",
      "hit_z                | std::vector<double>      | AsJagged(AsDtype('>f8'), he...\n",
      "hit_i_rep            | std::vector<uint64_t>    | AsJagged(AsDtype('>u8'), he...\n",
      "hit_j_rep            | std::vector<uint64_t>    | AsJagged(AsDtype('>u8'), he...\n",
      "hit_e_loss           | std::vector<double>      | AsJagged(AsDtype('>f8'), he...\n",
      "trk_count            | uint64_t                 | AsDtype('>u8')\n",
      "trk_id               | std::vector<uint64_t>    | AsJagged(AsDtype('>u8'), he...\n",
      "trk_pdg              | std::vector<int64_t>     | AsJagged(AsDtype('>i8'), he...\n",
      "trk_parent_id        | std::vector<uint64_t>    | AsJagged(AsDtype('>u8'), he...\n",
      "trk_create_proc      | std::vector<int64_t>     | AsJagged(AsDtype('>i8'), he...\n",
      "trk_level            | std::vector<uint64_t>    | AsJagged(AsDtype('>u8'), he...\n",
      "trk_vtx_x            | std::vector<double>      | AsJagged(AsDtype('>f8'), he...\n",
      "trk_vtx_y            | std::vector<double>      | AsJagged(AsDtype('>f8'), he...\n",
      "trk_vtx_z            | std::vector<double>      | AsJagged(AsDtype('>f8'), he...\n",
      "trk_vtx_dir_x        | std::vector<double>      | AsJagged(AsDtype('>f8'), he...\n",
      "trk_vtx_dir_y        | std::vector<double>      | AsJagged(AsDtype('>f8'), he...\n",
      "trk_vtx_dir_z        | std::vector<double>      | AsJagged(AsDtype('>f8'), he...\n",
      "trk_mom              | std::vector<double>      | AsJagged(AsDtype('>f8'), he...\n",
      "gen_prt_count        | uint64_t                 | AsDtype('>u8')\n",
      "gen_prt_id           | std::vector<uint64_t>    | AsJagged(AsDtype('>u8'), he...\n",
      "gen_prt_vtx_id       | std::vector<uint64_t>    | AsJagged(AsDtype('>u8'), he...\n",
      "gen_prt_pdg          | std::vector<uint64_t>    | AsJagged(AsDtype('>u8'), he...\n",
      "gen_prt_trk_id       | std::vector<uint64_t>    | AsJagged(AsDtype('>u8'), he...\n",
      "gen_prt_charge       | std::vector<double>      | AsJagged(AsDtype('>f8'), he...\n",
      "gen_prt_dir_x        | std::vector<double>      | AsJagged(AsDtype('>f8'), he...\n",
      "gen_prt_dir_y        | std::vector<double>      | AsJagged(AsDtype('>f8'), he...\n",
      "gen_prt_dir_z        | std::vector<double>      | AsJagged(AsDtype('>f8'), he...\n",
      "gen_prt_tot_mom      | std::vector<double>      | AsJagged(AsDtype('>f8'), he...\n",
      "gen_prt_tot_e        | std::vector<double>      | AsJagged(AsDtype('>f8'), he...\n",
      "gen_prt_time         | std::vector<double>      | AsJagged(AsDtype('>f8'), he...\n",
      "gen_prt_polariz_x    | std::vector<double>      | AsJagged(AsDtype('>f8'), he...\n",
      "gen_prt_polariz_y    | std::vector<double>      | AsJagged(AsDtype('>f8'), he...\n",
      "gen_prt_polariz_z    | std::vector<double>      | AsJagged(AsDtype('>f8'), he...\n",
      "gen_vtx_count        | uint64_t                 | AsDtype('>u8')\n",
      "gen_vtx_id           | std::vector<uint64_t>    | AsJagged(AsDtype('>u8'), he...\n",
      "gen_vtx_part_count   | std::vector<uint64_t>    | AsJagged(AsDtype('>u8'), he...\n",
      "gen_vtx_x            | std::vector<double>      | AsJagged(AsDtype('>f8'), he...\n",
      "gen_vtx_y            | std::vector<double>      | AsJagged(AsDtype('>f8'), he...\n",
      "gen_vtx_z            | std::vector<double>      | AsJagged(AsDtype('>f8'), he...\n",
      "gen_vtx_time         | std::vector<double>      | AsJagged(AsDtype('>f8'), he...\n",
      "gen_vtx_weight       | std::vector<double>      | AsJagged(AsDtype('>f8'), he...\n",
      "ce_emcal_name        | std::vector<std::string> | AsObjects(AsVector(True, As...\n",
      "ce_emcal_Etot_dep    | std::vector<double>      | AsJagged(AsDtype('>f8'), he...\n",
      "ce_emcal_Npe         | std::vector<int32_t>     | AsJagged(AsDtype('>i4'), he...\n",
      "ce_emcal_ADC         | std::vector<double>      | AsJagged(AsDtype('>f8'), he...\n",
      "ce_emcal_TDC         | std::vector<double>      | AsJagged(AsDtype('>f8'), he...\n",
      "ce_emcal_xcrs        | std::vector<double>      | AsJagged(AsDtype('>f8'), he...\n",
      "ce_emcal_ycrs        | std::vector<double>      | AsJagged(AsDtype('>f8'), he...\n",
      "ce_emcal_zcrs        | std::vector<double>      | AsJagged(AsDtype('>f8'), he...\n"
     ]
    }
   ],
   "source": [
    "# File has a data tree called 'events'\n",
    "# get events tree as a separate thing\n",
    "tree = file[\"events\"]\n",
    "\n",
    "# Print number of entries\n",
    "print(f\"Number of entries: {tree.num_entries}\")\n",
    "\n",
    "# Uncomment this to see all values:\n",
    "tree.show()\n",
    "\n",
    "\n",
    "# More TBranch functions:\n",
    "#https://uproot.readthedocs.io/en/latest/uproot.behaviors.TBranch.TBranch.html\n"
   ]
  },
  {
   "cell_type": "markdown",
   "metadata": {
    "pycharm": {
     "name": "#%% md\n"
    }
   },
   "source": [
    "```\n",
    "EVENTS\n",
    "+---------------------+\n",
    "| event_id            |\n",
    "| evt_true_q2         |\n",
    "| evt_true_x          |\n",
    "| evt_true_y          |\n",
    "| evt_true_w2         |\n",
    "| evt_true_nu         |\n",
    "| evt_true_t_hat      |\n",
    "| evt_has_dis_info    |\n",
    "| evt_weight          |\n",
    "+---------------------+\n",
    "\n",
    "GENERATED PARTICLES\n",
    "Particles that where generated by knowing the theory\n",
    "\n",
    "+---------------------+\n",
    "|gen_prt_count        |\n",
    "|gen_prt_id           |      # Unique number/id of this particle inside the event\n",
    "|gen_prt_vtx_id       |\n",
    "|gen_prt_pdg          |      # Type of the particle\n",
    "|gen_prt_trk_id       |\n",
    "|gen_prt_charge       |\n",
    "|gen_prt_dir_x        |\n",
    "|gen_prt_dir_y        |\n",
    "|gen_prt_dir_z        |\n",
    "|gen_prt_tot_mom      |\n",
    "|gen_prt_tot_e        |      # Particle totoal momentum\n",
    "|gen_prt_time         |\n",
    "|gen_prt_polariz_x    |\n",
    "|gen_prt_polariz_y    |\n",
    "|gen_prt_polariz_z    |\n",
    "|gen_vtx_count        |\n",
    "|gen_vtx_id           |\n",
    "|gen_vtx_part_count   |\n",
    "|gen_vtx_x            |\n",
    "|gen_vtx_y            |\n",
    "|gen_vtx_z            |\n",
    "|gen_vtx_time         |\n",
    "|gen_vtx_weight       |\n",
    "+---------------------+\n",
    "\n",
    "\n",
    "TRACKS - Simulated particle tracks in our detector\n",
    "+---------------------+\n",
    "|trk_count            |         # A number of tracks in an event\n",
    "|trk_id               | -+-+    # Unique number/id of this particle inside the event\n",
    "|trk_pdg              |  | |    # Type of the particle\n",
    "|trk_parent_id        | -+ |    # Parent id of the particle\n",
    "|trk_create_proc      |    |\n",
    "|trk_level            |    |\n",
    "|trk_vtx_x            |    |\n",
    "|trk_vtx_y            |    |\n",
    "|trk_vtx_z            |    |\n",
    "|trk_vtx_dir_x        |    |    # Track direction x,y,z\n",
    "|trk_vtx_dir_y        |    |\n",
    "|trk_vtx_dir_z        |    |\n",
    "|trk_mom              |    |    # Track momentum\n",
    "+---------------------+    |\n",
    "HITS in the detector       |\n",
    "+---------------------+    |\n",
    "|hit_count            |    |    # Number of hits in the event\n",
    "|hit_id               |    |\n",
    "|hit_trk_id           | ---+\n",
    "|hit_ptr_id           |\n",
    "|hit_parent_trk_id    |\n",
    "|hit_vol_name         |         # Volume name where hit occured\n",
    "|hit_x                |\n",
    "|hit_y                |\n",
    "|hit_z                |\n",
    "|hit_i_rep            |\n",
    "|hit_j_rep            |\n",
    "|hit_e_loss           |\n",
    "+---------------------+\n",
    "\n",
    "\n",
    "What was in reality:\n",
    "\n",
    "event 1\n",
    "    track 1 - electron 10GeV\n",
    "        hit_11\n",
    "        hit_12\n",
    "        hit_13\n",
    "    track 2 - proton   100GeV\n",
    "        hit_21\n",
    "        hit_22\n",
    "\n",
    "\n",
    "How we write this data:\n",
    "\n",
    "event_id = 1\n",
    "trk_count = 2\n",
    "trk_id = [1, 2]\n",
    "trk_pdg = [11, 2112]\n",
    "trk_mom = [10, 100]\n",
    "hit_count = 5\n",
    "hit_...=[...] - array of 5 elements\n",
    "hit_id = [1, 2, 3, 4, 5]\n",
    "hit_trk_id = [1, 1, 1, 2, 2]\n",
    "hit_z = [10, 100, 200, -1, -5]\n",
    "```"
   ]
  },
  {
   "cell_type": "code",
   "execution_count": 7,
   "metadata": {},
   "outputs": [],
   "source": [
    "# To load WHOLE data from a branch as an array:\n",
    "hit_z = tree['hit_z'].array()\n",
    "\n",
    "# library=np to return/convert array as a numpy library.\n",
    "\n",
    "# print(hit_xyz)\n",
    "# print(f\"There are total: {len(hit_xyz['hit_x'])} hits records\")\n",
    "\n",
    "# 261\n",
    "# [[...],[...], .... ]\n",
    "\n",
    "# for hits_in_event in hit_z:\n",
    "#    print(f\"Hits in the event: {len(hits_in_event)}\")"
   ]
  },
  {
   "cell_type": "code",
   "execution_count": 8,
   "metadata": {
    "pycharm": {
     "name": "#%%\n"
    }
   },
   "outputs": [],
   "source": [
    "# It is possible to convert multiple branches, apply formulas, aliases, etc.\n",
    "# arrays method is to be used for this\n",
    "\n",
    "# Instead of this:\n",
    "# hit_z = tree['hit_z'].array()\n",
    "# hit_y = tree['hit_y'].array()\n",
    "# hit_z = tree['hit_z'].array()\n",
    "\n",
    "# For numpy:\n",
    "hits = tree.arrays(filter_name=\"hit*\", library='np')\n",
    "\n",
    "# The resulting will be a dict like:\n",
    "# { 'par0': array([ 5.81875  ,  7.471875 ,  ...],\n",
    "#   'par1': array([ 5., 14.,  3., ... ],\n",
    "#   ...}\n",
    "\n",
    "# If you need only arrays, .values() function may be used\n",
    "# Finally you can unpack it as values (I use only 3 of pars here using [0,1,2] mask)\n",
    "hits_x, hits_y, hits_z = tree.arrays(filter_name=\"hit_[x,y,z]\", library='np').values()\n",
    "\n",
    "# Full info on this array methods\n",
    "# https://uproot.readthedocs.io/en/latest/basic.html#reading-multiple-tbranches-as-a-group-of-arrays\n"
   ]
  },
  {
   "cell_type": "markdown",
   "metadata": {
    "pycharm": {
     "name": "#%% md\n"
    }
   },
   "source": [
    "## PLOTTING"
   ]
  },
  {
   "cell_type": "code",
   "execution_count": 9,
   "metadata": {
    "pycharm": {
     "name": "#%%\n"
    }
   },
   "outputs": [
    {
     "data": {
      "text/plain": "[]"
     },
     "execution_count": 9,
     "metadata": {},
     "output_type": "execute_result"
    },
    {
     "data": {
      "text/plain": "<Figure size 432x288 with 1 Axes>",
      "image/png": "[encoded data removed]"
     },
     "metadata": {
      "needs_background": "light"
     },
     "output_type": "display_data"
    }
   ],
   "source": [
    "# To show a picture\n",
    "img = mpimg.imread('central_region.png')\n",
    "\n",
    "#\n",
    "\n",
    "plt.imshow(img, interpolation='none', extent=[-302,500,-240,240])\n",
    "plt.plot()\n"
   ]
  },
  {
   "cell_type": "code",
   "execution_count": 10,
   "metadata": {
    "pycharm": {
     "name": "#%%\n"
    }
   },
   "outputs": [
    {
     "data": {
      "text/plain": "[StepArtists(step=<matplotlib.lines.Line2D object at 0x00000268648F7408>, errorbar=None, legend_artist=None)]"
     },
     "execution_count": 10,
     "metadata": {},
     "output_type": "execute_result"
    },
    {
     "data": {
      "text/plain": "<Figure size 432x288 with 1 Axes>",
      "image/png": "[encoded data removed]"
     },
     "metadata": {
      "needs_background": "light"
     },
     "output_type": "display_data"
    }
   ],
   "source": [
    "hit_z =tree['hit_z'].array(library='ak')\n",
    "hit_z\n",
    "\n",
    "# fill the axes\n",
    "h = Hist(\n",
    "    hist.axis.Regular(\n",
    "        50, -302, 500, name=\"Z\", label=\"z [cm]\", underflow=False, overflow=False\n",
    "    ),\n",
    ")\n",
    "\n",
    "flatten_array = ak.flatten(hit_z[hit_z < -2000]/10)\n",
    "\n",
    "\n",
    "h.fill(ak.to_numpy(flatten_array))\n",
    "h.plot()\n",
    "\n",
    "\n",
    "# More on hist library\n",
    "# https://hist.readthedocs.io/en/latest/\n",
    "# https://github.com/scikit-hep/hist\n",
    "\n",
    "# The library is very new and there might be bugs, there are a couple of other\n",
    "# libraries that can work with histograms. Let me know\n",
    "\n"
   ]
  },
  {
   "cell_type": "code",
   "execution_count": 11,
   "metadata": {
    "pycharm": {
     "name": "#%%\n"
    }
   },
   "outputs": [
    {
     "name": "stdout",
     "output_type": "stream",
     "text": [
      "[[False, False, False, False, False, False, ... False, False, False, False, False]]\n",
      "[2039, 1449, 3282, 1625, 1650, 1774, 1545, ... 1429, 1234, 1209, 1109, 1954, 719]\n",
      "[16, 9, 3091, 2, 28, 4, 4, 0, 0, 0, 0, ... 1, 3943, 0, 0, 2776, 2, 0, 0, 0, 1730, 0]\n"
     ]
    }
   ],
   "source": [
    "filter_by_z = hit_z < -2000\n",
    "print(filter_by_z)\n",
    "\n",
    "hit_x =tree['hit_x'].array(library='ak')\n",
    "hit_y =tree['hit_y'].array(library='ak')\n",
    "\n",
    "print(ak.num(hit_x))\n",
    "\n",
    "hit_x = hit_x[filter_by_z]\n",
    "hit_y = hit_y[filter_by_z]\n",
    "print(ak.num(hit_x))"
   ]
  },
  {
   "cell_type": "code",
   "execution_count": 12,
   "metadata": {
    "pycharm": {
     "name": "#%%\n"
    }
   },
   "outputs": [
    {
     "data": {
      "text/plain": "ColormeshArtists(pcolormesh=<matplotlib.collections.QuadMesh object at 0x00000268649B6808>, cbar=<matplotlib.colorbar.Colorbar object at 0x0000026865212908>)"
     },
     "execution_count": 12,
     "metadata": {},
     "output_type": "execute_result"
    },
    {
     "data": {
      "text/plain": "<Figure size 462.24x288 with 2 Axes>",
      "image/png": "[encoded data removed]"
     },
     "metadata": {
      "needs_background": "light"
     },
     "output_type": "display_data"
    }
   ],
   "source": [
    "h = Hist(\n",
    "    hist.axis.Regular(50, -250, 250, name=\"X\", label=\"x [cm]\", flow=False),\n",
    "    hist.axis.Regular(50, -250, 250, name=\"Y\", label=\"y [cm]\", flow=False),\n",
    ")\n",
    "\n",
    "h.fill(ak.to_numpy(ak.flatten(hit_x/10)),\n",
    "       ak.to_numpy(ak.flatten(hit_y/10)))\n",
    "h.plot()"
   ]
  },
  {
   "cell_type": "code",
   "execution_count": 17,
   "outputs": [
    {
     "data": {
      "text/plain": "261 * var * string"
     },
     "execution_count": 17,
     "metadata": {},
     "output_type": "execute_result"
    }
   ],
   "source": [
    "# For numpy:\n",
    "events = tree.arrays(['hit_vol_name', 'hit_x', 'hit_y', 'hit_z'], library='ak')\n",
    "\n",
    "events.type\n",
    "#hit_y.type\n",
    "hit_names = events.hit_vol_name"
   ],
   "metadata": {
    "collapsed": false,
    "pycharm": {
     "name": "#%%\n"
    }
   }
  },
  {
   "cell_type": "code",
   "execution_count": 23,
   "outputs": [
    {
     "name": "stdout",
     "output_type": "stream",
     "text": [
      "[['ffi_RPOT_D2_GVol_Phys', 'ffi_RPOT_D2_GVol_Phys', ... []]\n"
     ]
    }
   ],
   "source": [
    "filter_by_name = hit_names[:, :, :len(\"ffi_R\")] == \"ffi_R\"\n",
    "print(hit_names[filter_by_name])\n"
   ],
   "metadata": {
    "collapsed": false,
    "pycharm": {
     "name": "#%%\n"
    }
   }
  },
  {
   "cell_type": "code",
   "execution_count": null,
   "outputs": [],
   "source": [],
   "metadata": {
    "collapsed": false,
    "pycharm": {
     "name": "#%%\n"
    }
   }
  }
 ],
 "metadata": {
  "kernelspec": {
   "display_name": "Python 3",
   "language": "python",
   "name": "python3"
  },
  "language_info": {
   "codemirror_mode": {
    "name": "ipython",
    "version": 3
   },
   "file_extension": ".py",
   "mimetype": "text/x-python",
   "name": "python",
   "nbconvert_exporter": "python",
   "pygments_lexer": "ipython3",
   "version": "3.8.2"
  }
 },
 "nbformat": 4,
 "nbformat_minor": 4
}