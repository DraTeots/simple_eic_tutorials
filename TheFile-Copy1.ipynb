{
 "cells": [
  {
   "cell_type": "markdown",
   "metadata": {
    "pycharm": {
     "name": "#%% md\n"
    }
   },
   "source": [
    "Run pip install if there is no uproot package:\n",
    "```bash\n",
    "pip install --upgrade uproot4 awkward1 particle boost-histogram matplotlib mplhep pandas numexpr autograd hist hist[plot] humanize\n",
    "```"
   ]
  },
  {
   "cell_type": "code",
   "execution_count": 1,
   "metadata": {},
   "outputs": [
    {
     "name": "stdout",
     "output_type": "stream",
     "text": [
      "Requirement already up-to-date: uproot4 in /Library/Frameworks/Python.framework/Versions/3.8/lib/python3.8/site-packages (4.0.0)\n",
      "Requirement already up-to-date: awkward1 in /Library/Frameworks/Python.framework/Versions/3.8/lib/python3.8/site-packages (1.0.0)\n",
      "Requirement already up-to-date: particle in /Library/Frameworks/Python.framework/Versions/3.8/lib/python3.8/site-packages (0.14.0)\n",
      "Requirement already up-to-date: boost-histogram in /Users/audiobooks/Library/Python/3.8/lib/python/site-packages (0.12.0)\n",
      "Requirement already up-to-date: matplotlib in /Users/audiobooks/Library/Python/3.8/lib/python/site-packages (3.3.4)\n",
      "Collecting mplhep\n",
      "\u001b[?25l  Downloading https://files.pythonhosted.org/packages/ae/82/d767b9d94ef78da4359544712c6ccbe01375abb50ea25ae42f5daf9d7005/mplhep-0.2.16-py3-none-any.whl (5.4MB)\n",
      "\u001b[K     |████████████████████████████████| 5.5MB 1.8MB/s eta 0:00:01\n",
      "\u001b[?25hRequirement already up-to-date: pandas in /Users/audiobooks/Library/Python/3.8/lib/python/site-packages (1.2.2)\n",
      "Requirement already up-to-date: numexpr in /Users/audiobooks/Library/Python/3.8/lib/python/site-packages (2.7.2)\n",
      "Requirement already up-to-date: autograd in /Library/Frameworks/Python.framework/Versions/3.8/lib/python3.8/site-packages (1.3)\n",
      "Requirement already up-to-date: hist in /Library/Frameworks/Python.framework/Versions/3.8/lib/python3.8/site-packages (2.0.1)\n",
      "Requirement already up-to-date: humanize in /Library/Frameworks/Python.framework/Versions/3.8/lib/python3.8/site-packages (3.2.0)\n",
      "Requirement already satisfied, skipping upgrade: uproot>=4.0.0 in /Library/Frameworks/Python.framework/Versions/3.8/lib/python3.8/site-packages (from uproot4) (4.0.0)\n",
      "Requirement already satisfied, skipping upgrade: awkward>=1.0.0 in /Library/Frameworks/Python.framework/Versions/3.8/lib/python3.8/site-packages (from awkward1) (1.0.2)\n",
      "Requirement already satisfied, skipping upgrade: attrs>=19.2 in /Library/Frameworks/Python.framework/Versions/3.8/lib/python3.8/site-packages (from particle) (19.3.0)\n",
      "Requirement already satisfied, skipping upgrade: hepunits>=2.0.0 in /Library/Frameworks/Python.framework/Versions/3.8/lib/python3.8/site-packages (from particle) (2.0.1)\n",
      "Requirement already satisfied, skipping upgrade: numpy>=1.13.3 in /Library/Frameworks/Python.framework/Versions/3.8/lib/python3.8/site-packages (from boost-histogram) (1.18.3)\n",
      "Requirement already satisfied, skipping upgrade: cycler>=0.10 in /Library/Frameworks/Python.framework/Versions/3.8/lib/python3.8/site-packages (from matplotlib) (0.10.0)\n",
      "Requirement already satisfied, skipping upgrade: pyparsing!=2.0.4,!=2.1.2,!=2.1.6,>=2.0.3 in /Library/Frameworks/Python.framework/Versions/3.8/lib/python3.8/site-packages (from matplotlib) (2.4.7)\n",
      "Requirement already satisfied, skipping upgrade: kiwisolver>=1.0.1 in /Library/Frameworks/Python.framework/Versions/3.8/lib/python3.8/site-packages (from matplotlib) (1.2.0)\n",
      "Requirement already satisfied, skipping upgrade: python-dateutil>=2.1 in /Library/Frameworks/Python.framework/Versions/3.8/lib/python3.8/site-packages (from matplotlib) (2.8.1)\n",
      "Requirement already satisfied, skipping upgrade: pillow>=6.2.0 in /Library/Frameworks/Python.framework/Versions/3.8/lib/python3.8/site-packages (from matplotlib) (8.1.0)\n",
      "Requirement already satisfied, skipping upgrade: scipy>=1.1.0 in /Library/Frameworks/Python.framework/Versions/3.8/lib/python3.8/site-packages (from mplhep) (1.4.1)\n",
      "Requirement already satisfied, skipping upgrade: requests~=2.21 in /Users/audiobooks/Library/Python/3.8/lib/python/site-packages (from mplhep) (2.24.0)\n",
      "Requirement already satisfied, skipping upgrade: packaging in /Users/audiobooks/Library/Python/3.8/lib/python/site-packages (from mplhep) (20.8)\n",
      "Requirement already satisfied, skipping upgrade: pytz>=2017.3 in /Library/Frameworks/Python.framework/Versions/3.8/lib/python3.8/site-packages (from pandas) (2020.4)\n",
      "Requirement already satisfied, skipping upgrade: future>=0.15.2 in /Library/Frameworks/Python.framework/Versions/3.8/lib/python3.8/site-packages (from autograd) (0.18.2)\n",
      "Requirement already satisfied, skipping upgrade: histoprint>=1.4 in /Library/Frameworks/Python.framework/Versions/3.8/lib/python3.8/site-packages (from hist) (1.5.2)\n",
      "Requirement already satisfied, skipping upgrade: setuptools in /Library/Frameworks/Python.framework/Versions/3.8/lib/python3.8/site-packages (from humanize) (41.2.0)\n",
      "Requirement already satisfied, skipping upgrade: six in /Library/Frameworks/Python.framework/Versions/3.8/lib/python3.8/site-packages (from cycler>=0.10->matplotlib) (1.14.0)\n",
      "Requirement already satisfied, skipping upgrade: idna<3,>=2.5 in /Users/audiobooks/Library/Python/3.8/lib/python/site-packages (from requests~=2.21->mplhep) (2.10)\n",
      "Requirement already satisfied, skipping upgrade: urllib3!=1.25.0,!=1.25.1,<1.26,>=1.21.1 in /Users/audiobooks/Library/Python/3.8/lib/python/site-packages (from requests~=2.21->mplhep) (1.25.11)\n",
      "Requirement already satisfied, skipping upgrade: chardet<4,>=3.0.2 in /Users/audiobooks/Library/Python/3.8/lib/python/site-packages (from requests~=2.21->mplhep) (3.0.4)\n",
      "Requirement already satisfied, skipping upgrade: certifi>=2017.4.17 in /Users/audiobooks/Library/Python/3.8/lib/python/site-packages (from requests~=2.21->mplhep) (2020.6.20)\n",
      "Requirement already satisfied, skipping upgrade: click>=7.0.0 in /Library/Frameworks/Python.framework/Versions/3.8/lib/python3.8/site-packages (from histoprint>=1.4->hist) (7.1.2)\n",
      "Installing collected packages: mplhep\n",
      "  Found existing installation: mplhep 0.2.15\n",
      "    Uninstalling mplhep-0.2.15:\n",
      "      Successfully uninstalled mplhep-0.2.15\n",
      "Successfully installed mplhep-0.2.16\n",
      "\u001b[33mWARNING: You are using pip version 19.2.3, however version 21.0.1 is available.\n",
      "You should consider upgrading via the 'pip install --upgrade pip' command.\u001b[0m\n",
      "Note: you may need to restart the kernel to use updated packages.\n"
     ]
    }
   ],
   "source": [
    "pip install --upgrade --user uproot4 awkward1 particle boost-histogram matplotlib mplhep pandas numexpr autograd hist hist[plot] humanize"
   ]
  },
  {
   "cell_type": "code",
   "execution_count": 2,
   "metadata": {
    "pycharm": {
     "name": "#%%\n"
    }
   },
   "outputs": [],
   "source": [
    "import uproot4\n",
    "from matplotlib import pyplot as p\n",
    "from hist import Hist\n",
    "import hist\n",
    "import awkward1 as ak\n",
    "import numpy as np\n",
    "import matplotlib.pyplot as plt\n",
    "from matplotlib.gridspec import GridSpec\n",
    "import matplotlib.image as mpimg\n",
    "\n",
    "# Pretty printing arrays\n",
    "from pprint import pprint"
   ]
  },
  {
   "cell_type": "code",
   "execution_count": 3,
   "metadata": {},
   "outputs": [
    {
     "data": {
      "text/plain": [
       "[('events;1', <TTree 'events' (65 branches) at 0x7fce36b26b80>)]"
      ]
     },
     "execution_count": 3,
     "metadata": {},
     "output_type": "execute_result"
    }
   ],
   "source": [
    "\n",
    "\n",
    "file=uproot4.open(\"simple.root\")\n",
    "\n",
    "# To see all object names in the file:\n",
    "file.items()\n",
    "\n",
    "# only names: file.keys(), file.values()))\n",
    "\n",
    "# To see items in subdirectories\n",
    "# file.keys(recursive=True)\n",
    "\n",
    "# There are more functions related to file:\n",
    "# https://uproot.readthedocs.io/en/latest/uproot.reading.ReadOnlyFile.html\n",
    "\n",
    "# Root directories:\n",
    "# https://uproot.readthedocs.io/en/latest/uproot.reading.ReadOnlyDirectory.html\n",
    "\n",
    "# To read multiple files at once (aka TChain)\n",
    "# https://uproot.readthedocs.io/en/latest/basic.html#iterating-over-many-files\n"
   ]
  },
  {
   "cell_type": "code",
   "execution_count": 4,
   "metadata": {
    "pycharm": {
     "name": "#%%\n"
    }
   },
   "outputs": [
    {
     "name": "stdout",
     "output_type": "stream",
     "text": [
      "Number of entries: 261\n",
      "name                 | typename                 | interpretation                \n",
      "---------------------+--------------------------+-------------------------------\n",
      "event_id             | uint64_t                 | AsDtype('>u8')\n",
      "evt_true_q2          | double                   | AsDtype('>f8')\n",
      "evt_true_x           | double                   | AsDtype('>f8')\n",
      "evt_true_y           | double                   | AsDtype('>f8')\n",
      "evt_true_w2          | double                   | AsDtype('>f8')\n",
      "evt_true_nu          | double                   | AsDtype('>f8')\n",
      "evt_true_t_hat       | double                   | AsDtype('>f8')\n",
      "evt_has_dis_info     | int8_t                   | AsDtype('int8')\n",
      "evt_weight           | double                   | AsDtype('>f8')\n",
      "hit_count            | uint64_t                 | AsDtype('>u8')\n",
      "hit_id               | std::vector<uint64_t>    | AsJagged(AsDtype('>u8'), he...\n",
      "hit_trk_id           | std::vector<uint64_t>    | AsJagged(AsDtype('>u8'), he...\n",
      "hit_ptr_id           | std::vector<uint64_t>    | AsJagged(AsDtype('>u8'), he...\n",
      "hit_parent_trk_id    | std::vector<uint64_t>    | AsJagged(AsDtype('>u8'), he...\n",
      "hit_vol_name         | std::vector<std::string> | AsObjects(AsVector(True, As...\n",
      "hit_x                | std::vector<double>      | AsJagged(AsDtype('>f8'), he...\n",
      "hit_y                | std::vector<double>      | AsJagged(AsDtype('>f8'), he...\n",
      "hit_z                | std::vector<double>      | AsJagged(AsDtype('>f8'), he...\n",
      "hit_i_rep            | std::vector<uint64_t>    | AsJagged(AsDtype('>u8'), he...\n",
      "hit_j_rep            | std::vector<uint64_t>    | AsJagged(AsDtype('>u8'), he...\n",
      "hit_e_loss           | std::vector<double>      | AsJagged(AsDtype('>f8'), he...\n",
      "trk_count            | uint64_t                 | AsDtype('>u8')\n",
      "trk_id               | std::vector<uint64_t>    | AsJagged(AsDtype('>u8'), he...\n",
      "trk_pdg              | std::vector<int64_t>     | AsJagged(AsDtype('>i8'), he...\n",
      "trk_parent_id        | std::vector<uint64_t>    | AsJagged(AsDtype('>u8'), he...\n",
      "trk_create_proc      | std::vector<int64_t>     | AsJagged(AsDtype('>i8'), he...\n",
      "trk_level            | std::vector<uint64_t>    | AsJagged(AsDtype('>u8'), he...\n",
      "trk_vtx_x            | std::vector<double>      | AsJagged(AsDtype('>f8'), he...\n",
      "trk_vtx_y            | std::vector<double>      | AsJagged(AsDtype('>f8'), he...\n",
      "trk_vtx_z            | std::vector<double>      | AsJagged(AsDtype('>f8'), he...\n",
      "trk_vtx_dir_x        | std::vector<double>      | AsJagged(AsDtype('>f8'), he...\n",
      "trk_vtx_dir_y        | std::vector<double>      | AsJagged(AsDtype('>f8'), he...\n",
      "trk_vtx_dir_z        | std::vector<double>      | AsJagged(AsDtype('>f8'), he...\n",
      "trk_mom              | std::vector<double>      | AsJagged(AsDtype('>f8'), he...\n",
      "gen_prt_count        | uint64_t                 | AsDtype('>u8')\n",
      "gen_prt_id           | std::vector<uint64_t>    | AsJagged(AsDtype('>u8'), he...\n",
      "gen_prt_vtx_id       | std::vector<uint64_t>    | AsJagged(AsDtype('>u8'), he...\n",
      "gen_prt_pdg          | std::vector<uint64_t>    | AsJagged(AsDtype('>u8'), he...\n",
      "gen_prt_trk_id       | std::vector<uint64_t>    | AsJagged(AsDtype('>u8'), he...\n",
      "gen_prt_charge       | std::vector<double>      | AsJagged(AsDtype('>f8'), he...\n",
      "gen_prt_dir_x        | std::vector<double>      | AsJagged(AsDtype('>f8'), he...\n",
      "gen_prt_dir_y        | std::vector<double>      | AsJagged(AsDtype('>f8'), he...\n",
      "gen_prt_dir_z        | std::vector<double>      | AsJagged(AsDtype('>f8'), he...\n",
      "gen_prt_tot_mom      | std::vector<double>      | AsJagged(AsDtype('>f8'), he...\n",
      "gen_prt_tot_e        | std::vector<double>      | AsJagged(AsDtype('>f8'), he...\n",
      "gen_prt_time         | std::vector<double>      | AsJagged(AsDtype('>f8'), he...\n",
      "gen_prt_polariz_x    | std::vector<double>      | AsJagged(AsDtype('>f8'), he...\n",
      "gen_prt_polariz_y    | std::vector<double>      | AsJagged(AsDtype('>f8'), he...\n",
      "gen_prt_polariz_z    | std::vector<double>      | AsJagged(AsDtype('>f8'), he...\n",
      "gen_vtx_count        | uint64_t                 | AsDtype('>u8')\n",
      "gen_vtx_id           | std::vector<uint64_t>    | AsJagged(AsDtype('>u8'), he...\n",
      "gen_vtx_part_count   | std::vector<uint64_t>    | AsJagged(AsDtype('>u8'), he...\n",
      "gen_vtx_x            | std::vector<double>      | AsJagged(AsDtype('>f8'), he...\n",
      "gen_vtx_y            | std::vector<double>      | AsJagged(AsDtype('>f8'), he...\n",
      "gen_vtx_z            | std::vector<double>      | AsJagged(AsDtype('>f8'), he...\n",
      "gen_vtx_time         | std::vector<double>      | AsJagged(AsDtype('>f8'), he...\n",
      "gen_vtx_weight       | std::vector<double>      | AsJagged(AsDtype('>f8'), he...\n",
      "ce_emcal_name        | std::vector<std::string> | AsObjects(AsVector(True, As...\n",
      "ce_emcal_Etot_dep    | std::vector<double>      | AsJagged(AsDtype('>f8'), he...\n",
      "ce_emcal_Npe         | std::vector<int32_t>     | AsJagged(AsDtype('>i4'), he...\n",
      "ce_emcal_ADC         | std::vector<double>      | AsJagged(AsDtype('>f8'), he...\n",
      "ce_emcal_TDC         | std::vector<double>      | AsJagged(AsDtype('>f8'), he...\n",
      "ce_emcal_xcrs        | std::vector<double>      | AsJagged(AsDtype('>f8'), he...\n",
      "ce_emcal_ycrs        | std::vector<double>      | AsJagged(AsDtype('>f8'), he...\n",
      "ce_emcal_zcrs        | std::vector<double>      | AsJagged(AsDtype('>f8'), he...\n"
     ]
    }
   ],
   "source": [
    "# File has a data tree called 'events'\n",
    "# get events tree as a separate thing\n",
    "tree = file[\"events\"]\n",
    "\n",
    "# Print number of entries\n",
    "print(f\"Number of entries: {tree.num_entries}\")\n",
    "\n",
    "# Uncomment this to see all values:\n",
    "tree.show()\n",
    "\n",
    "\n",
    "# More TBranch functions:\n",
    "#https://uproot.readthedocs.io/en/latest/uproot.behaviors.TBranch.TBranch.html\n"
   ]
  },
  {
   "cell_type": "markdown",
   "metadata": {
    "pycharm": {
     "name": "#%% md\n"
    }
   },
   "source": [
    "```\n",
    "EVENTS\n",
    "+---------------------+\n",
    "| event_id            |\n",
    "| evt_true_q2         |\n",
    "| evt_true_x          |\n",
    "| evt_true_y          |\n",
    "| evt_true_w2         |\n",
    "| evt_true_nu         |\n",
    "| evt_true_t_hat      |\n",
    "| evt_has_dis_info    |\n",
    "| evt_weight          |\n",
    "+---------------------+\n",
    "\n",
    "GENERATED PARTICLES\n",
    "Particles that where generated by knowing the theory\n",
    "\n",
    "+---------------------+\n",
    "|gen_prt_count        |\n",
    "|gen_prt_id           |      # Unique number/id of this particle inside the event\n",
    "|gen_prt_vtx_id       |\n",
    "|gen_prt_pdg          |      # Type of the particle\n",
    "|gen_prt_trk_id       |\n",
    "|gen_prt_charge       |\n",
    "|gen_prt_dir_x        |\n",
    "|gen_prt_dir_y        |\n",
    "|gen_prt_dir_z        |\n",
    "|gen_prt_tot_mom      |\n",
    "|gen_prt_tot_e        |      # Particle totoal momentum\n",
    "|gen_prt_time         |\n",
    "|gen_prt_polariz_x    |\n",
    "|gen_prt_polariz_y    |\n",
    "|gen_prt_polariz_z    |\n",
    "|gen_vtx_count        |\n",
    "|gen_vtx_id           |\n",
    "|gen_vtx_part_count   |\n",
    "|gen_vtx_x            |\n",
    "|gen_vtx_y            |\n",
    "|gen_vtx_z            |\n",
    "|gen_vtx_time         |\n",
    "|gen_vtx_weight       |\n",
    "+---------------------+\n",
    "\n",
    "\n",
    "TRACKS - Simulated particle tracks in our detector\n",
    "+---------------------+\n",
    "|trk_count            |         # A number of tracks in an event\n",
    "|trk_id               | -+-+    # Unique number/id of this particle inside the event\n",
    "|trk_pdg              |  | |    # Type of the particle\n",
    "|trk_parent_id        | -+ |    # Parent id of the particle\n",
    "|trk_create_proc      |    |\n",
    "|trk_level            |    |\n",
    "|trk_vtx_x            |    |\n",
    "|trk_vtx_y            |    |\n",
    "|trk_vtx_z            |    |\n",
    "|trk_vtx_dir_x        |    |    # Track direction x,y,z\n",
    "|trk_vtx_dir_y        |    |\n",
    "|trk_vtx_dir_z        |    |\n",
    "|trk_mom              |    |    # Track momentum\n",
    "+---------------------+    |\n",
    "HITS in the detector       |\n",
    "+---------------------+    |\n",
    "|hit_count            |    |    # Number of hits in the event\n",
    "|hit_id               |    |\n",
    "|hit_trk_id           | ---+\n",
    "|hit_ptr_id           |\n",
    "|hit_parent_trk_id    |\n",
    "|hit_vol_name         |         # Volume name where hit occured\n",
    "|hit_x                |\n",
    "|hit_y                |\n",
    "|hit_z                |\n",
    "|hit_i_rep            |\n",
    "|hit_j_rep            |\n",
    "|hit_e_loss           |\n",
    "+---------------------+\n",
    "\n",
    "\n",
    "What was in reality:\n",
    "\n",
    "event 1\n",
    "    track 1 - electron 10GeV\n",
    "        hit_11\n",
    "        hit_12\n",
    "        hit_13\n",
    "    track 2 - proton   100GeV\n",
    "        hit_21\n",
    "        hit_22\n",
    "\n",
    "\n",
    "How we write this data:\n",
    "\n",
    "event_id = 1\n",
    "trk_count = 2\n",
    "trk_id = [1, 2]\n",
    "trk_pdg = [11, 2112]\n",
    "trk_mom = [10, 100]\n",
    "hit_count = 5\n",
    "hit_...=[...] - array of 5 elements\n",
    "hit_id = [1, 2, 3, 4, 5]\n",
    "hit_trk_id = [1, 1, 1, 2, 2]\n",
    "hit_z = [10, 100, 200, -1, -5]\n",
    "```"
   ]
  },
  {
   "cell_type": "code",
   "execution_count": 5,
   "metadata": {},
   "outputs": [],
   "source": [
    "# To load WHOLE data from a branch as an array:\n",
    "hit_z = tree['hit_z'].array()\n",
    "\n",
    "# library=np to return/convert array as a numpy library.\n",
    "\n",
    "# print(hit_xyz)\n",
    "# print(f\"There are total: {len(hit_xyz['hit_x'])} hits records\")\n",
    "\n",
    "# 261\n",
    "# [[...],[...], .... ]\n",
    "\n",
    "# for hits_in_event in hit_z:\n",
    "#    print(f\"Hits in the event: {len(hits_in_event)}\")"
   ]
  },
  {
   "cell_type": "code",
   "execution_count": 6,
   "metadata": {
    "pycharm": {
     "name": "#%%\n"
    }
   },
   "outputs": [],
   "source": [
    "# It is possible to convert multiple branches, apply formulas, aliases, etc.\n",
    "# arrays method is to be used for this\n",
    "\n",
    "# Instead of this:\n",
    "# hit_z = tree['hit_z'].array()\n",
    "# hit_y = tree['hit_y'].array()\n",
    "# hit_z = tree['hit_z'].array()\n",
    "\n",
    "# For numpy:\n",
    "hits = tree.arrays(filter_name=\"hit*\", library='np')\n",
    "\n",
    "# The resulting will be a dict like:\n",
    "# { 'par0': array([ 5.81875  ,  7.471875 ,  ...],\n",
    "#   'par1': array([ 5., 14.,  3., ... ],\n",
    "#   ...}\n",
    "\n",
    "# If you need only arrays, .values() function may be used\n",
    "# Finally you can unpack it as values (I use only 3 of pars here using [0,1,2] mask)\n",
    "hits_x, hits_y, hits_z = tree.arrays(filter_name=\"hit_[x,y,z]\", library='np').values()\n",
    "\n",
    "# Full info on this array methods\n",
    "# https://uproot.readthedocs.io/en/latest/basic.html#reading-multiple-tbranches-as-a-group-of-arrays\n"
   ]
  },
  {
   "cell_type": "markdown",
   "metadata": {
    "pycharm": {
     "name": "#%% md\n"
    }
   },
   "source": [
    "## PLOTTING"
   ]
  },
  {
   "cell_type": "code",
   "execution_count": 7,
   "metadata": {
    "pycharm": {
     "name": "#%%\n"
    }
   },
   "outputs": [
    {
     "data": {
      "text/plain": [
       "[]"
      ]
     },
     "execution_count": 7,
     "metadata": {},
     "output_type": "execute_result"
    },
    {
     "data": {
      "image/png": "[encoded data removed]",
      "text/plain": [
       "<Figure size 432x288 with 1 Axes>"
      ]
     },
     "metadata": {
      "needs_background": "light"
     },
     "output_type": "display_data"
    }
   ],
   "source": [
    "# To show a picture\n",
    "img = mpimg.imread('central_region.png')\n",
    "\n",
    "#\n",
    "\n",
    "plt.imshow(img, interpolation='none', extent=[-302,500,-240,240])\n",
    "plt.plot()\n"
   ]
  },
  {
   "cell_type": "code",
   "execution_count": 8,
   "metadata": {
    "pycharm": {
     "name": "#%%\n"
    }
   },
   "outputs": [
    {
     "data": {
      "text/plain": [
       "[StepArtists(step=<matplotlib.lines.Line2D object at 0x7fce262f9dc0>, errorbar=None, legend_artist=None)]"
      ]
     },
     "execution_count": 8,
     "metadata": {},
     "output_type": "execute_result"
    },
    {
     "data": {
      "image/png": "[encoded data removed]",
      "text/plain": [
       "<Figure size 432x288 with 1 Axes>"
      ]
     },
     "metadata": {
      "needs_background": "light"
     },
     "output_type": "display_data"
    }
   ],
   "source": [
    "hit_z =tree['hit_z'].array(library='ak')\n",
    "hit_z=hit_z[hit_z<=-2000]\n",
    "\n",
    "# fill the axes\n",
    "h = Hist(\n",
    "    hist.axis.Regular(\n",
    "        50, -302, 500, name=\"Z\", label=\"z [cm]\", underflow=False, overflow=False\n",
    "    ),\n",
    ")\n",
    "\n",
    "flatten_array = ak.flatten(hit_z/10)\n",
    "\n",
    "h.fill(ak.to_numpy(flatten_array))\n",
    "h.plot()\n",
    "\n",
    "\n",
    "# More on hist library\n",
    "# https://hist.readthedocs.io/en/latest/\n",
    "# https://github.com/scikit-hep/hist\n",
    "\n",
    "# The library is very new and there might be bugs, there are a couple of other\n",
    "# libraries that can work with histograms. Let me know\n",
    "\n"
   ]
  },
  {
   "cell_type": "code",
   "execution_count": 9,
   "metadata": {
    "pycharm": {
     "name": "#%%\n"
    }
   },
   "outputs": [],
   "source": [
    "hit_z =tree['hit_z'].array(library='ak')\n",
    "filter_by_z=hit_z<=-2000\n",
    "\n",
    "\n",
    "hit_x =tree['hit_x'].array(library='ak')\n",
    "hit_y =tree['hit_y'].array(library='ak')\n",
    "hit_x=hit_x[filter_by_z]\n",
    "hit_y=hit_y[filter_by_z]\n"
   ]
  },
  {
   "cell_type": "code",
   "execution_count": 10,
   "metadata": {},
   "outputs": [
    {
     "data": {
      "text/plain": [
       "ColormeshArtists(pcolormesh=<matplotlib.collections.QuadMesh object at 0x7fce264867c0>, cbar=<matplotlib.colorbar.Colorbar object at 0x7fce26486bb0>)"
      ]
     },
     "execution_count": 10,
     "metadata": {},
     "output_type": "execute_result"
    },
    {
     "data": {
      "image/png": "[encoded data removed]",
      "text/plain": [
       "<Figure size 432x288 with 2 Axes>"
      ]
     },
     "metadata": {
      "needs_background": "light"
     },
     "output_type": "display_data"
    }
   ],
   "source": [
    "h = Hist(\n",
    "    hist.axis.Regular(50, -250, 250, name=\"X\", label=\"x [cm]\", flow=False),\n",
    "    hist.axis.Regular(50, -250, 250, name=\"Y\", label=\"y [cm]\", flow=False),\n",
    "    \n",
    ")\n",
    "h.fill(ak.to_numpy(ak.flatten(hit_x/10)),\n",
    "       ak.to_numpy(ak.flatten(hit_y/10)))\n",
    "h.plot()\n"
   ]
  },
  {
   "cell_type": "code",
   "execution_count": 11,
   "metadata": {},
   "outputs": [],
   "source": [
    "def filter_by_detector_name(ak_array, name):\n",
    "    return ak_array[:, :, :len(name)] == name\n",
    "name=tree['hit_vol_name'].array()\n",
    "filterByName=filter_by_detector_name(name,'ce_EMCAL')\n",
    "hit_x =tree['hit_x'].array(library='ak')\n",
    "hit_y =tree['hit_y'].array(library='ak')\n",
    "hit_x=hit_x[filterByName]\n",
    "hit_y=hit_y[filterByName]"
   ]
  },
  {
   "cell_type": "code",
   "execution_count": 12,
   "metadata": {},
   "outputs": [
    {
     "data": {
      "text/plain": [
       "ColormeshArtists(pcolormesh=<matplotlib.collections.QuadMesh object at 0x7fce2a5c1af0>, cbar=<matplotlib.colorbar.Colorbar object at 0x7fce2a5c1ee0>)"
      ]
     },
     "execution_count": 12,
     "metadata": {},
     "output_type": "execute_result"
    },
    {
     "data": {
      "image/png": "[encoded data removed]",
      "text/plain": [
       "<Figure size 432x288 with 2 Axes>"
      ]
     },
     "metadata": {
      "needs_background": "light"
     },
     "output_type": "display_data"
    }
   ],
   "source": [
    "h = Hist(\n",
    "    hist.axis.Regular(50, -250, 250, name=\"X\", label=\"x [cm]\", flow=False),\n",
    "    hist.axis.Regular(50, -250, 250, name=\"Y\", label=\"y [cm]\", flow=False),\n",
    "    \n",
    ")\n",
    "h.fill(ak.to_numpy(ak.flatten(hit_x/10)),\n",
    "       ak.to_numpy(ak.flatten(hit_y/10)))\n",
    "h.plot()\n"
   ]
  },
  {
   "cell_type": "code",
   "execution_count": 13,
   "metadata": {},
   "outputs": [],
   "source": [
    "name=tree['hit_vol_name'].array()\n",
    "filterByName=filter_by_detector_name(name,'ci_EMCAL')\n",
    "hit_x =tree['hit_x'].array(library='ak')\n",
    "hit_y =tree['hit_y'].array(library='ak')\n",
    "hit_x=hit_x[filterByName]\n",
    "hit_y=hit_y[filterByName]"
   ]
  },
  {
   "cell_type": "code",
   "execution_count": 14,
   "metadata": {},
   "outputs": [
    {
     "data": {
      "text/plain": [
       "ColormeshArtists(pcolormesh=<matplotlib.collections.QuadMesh object at 0x7fce25cb0730>, cbar=<matplotlib.colorbar.Colorbar object at 0x7fce25cb0b20>)"
      ]
     },
     "execution_count": 14,
     "metadata": {},
     "output_type": "execute_result"
    },
    {
     "data": {
      "image/png": "[encoded data removed]",
      "text/plain": [
       "<Figure size 432x288 with 2 Axes>"
      ]
     },
     "metadata": {
      "needs_background": "light"
     },
     "output_type": "display_data"
    }
   ],
   "source": [
    "h = Hist(\n",
    "    hist.axis.Regular(50, -250, 250, name=\"X\", label=\"x [cm]\", flow=False),\n",
    "    hist.axis.Regular(50, -250, 250, name=\"Y\", label=\"y [cm]\", flow=False),\n",
    "    \n",
    ")\n",
    "h.fill(ak.to_numpy(ak.flatten(hit_x/10)),\n",
    "       ak.to_numpy(ak.flatten(hit_y/10)))\n",
    "h.plot()\n"
   ]
  },
  {
   "cell_type": "code",
   "execution_count": 15,
   "metadata": {},
   "outputs": [
    {
     "data": {
      "text/plain": [
       "[StepArtists(step=<matplotlib.lines.Line2D object at 0x7fce2892f460>, errorbar=None, legend_artist=None)]"
      ]
     },
     "execution_count": 15,
     "metadata": {},
     "output_type": "execute_result"
    },
    {
     "data": {
      "image/png": "[encoded data removed]",
      "text/plain": [
       "<Figure size 432x288 with 1 Axes>"
      ]
     },
     "metadata": {
      "needs_background": "light"
     },
     "output_type": "display_data"
    }
   ],
   "source": [
    "hit_z =tree['hit_z'].array(library='ak')\n",
    "\n",
    "hit_z=hit_z[filterByName]\n",
    "\n",
    "h = Hist(\n",
    "    hist.axis.Regular(\n",
    "        50, -302, 500, name=\"Z\", label=\"z [cm]\", underflow=False, overflow=False\n",
    "    ),\n",
    ")\n",
    "\n",
    "flatten_array = ak.flatten(hit_z/10)\n",
    "\n",
    "h.fill(ak.to_numpy(flatten_array))\n",
    "h.plot()"
   ]
  },
  {
   "cell_type": "code",
   "execution_count": 16,
   "metadata": {},
   "outputs": [],
   "source": [
    "\n",
    "part=tree['trk_pdg'].array()\n",
    "filter_proton=part==2212\n",
    "filter_electron=part==11\n",
    "filter_pi=part==211\n",
    "hit_x =tree['hit_x'].array(library='ak')\n",
    "hit_y =tree['hit_y'].array(library='ak')\n",
    "hit_x=hit_x[filter_proton]\n",
    "hit_y=hit_y[filter_proton]"
   ]
  },
  {
   "cell_type": "code",
   "execution_count": 17,
   "metadata": {},
   "outputs": [
    {
     "data": {
      "text/plain": [
       "ColormeshArtists(pcolormesh=<matplotlib.collections.QuadMesh object at 0x7fce27d93ee0>, cbar=<matplotlib.colorbar.Colorbar object at 0x7fce27d88310>)"
      ]
     },
     "execution_count": 17,
     "metadata": {},
     "output_type": "execute_result"
    },
    {
     "data": {
      "image/png": "[encoded data removed]",
      "text/plain": [
       "<Figure size 432x288 with 2 Axes>"
      ]
     },
     "metadata": {
      "needs_background": "light"
     },
     "output_type": "display_data"
    }
   ],
   "source": [
    "h = Hist(\n",
    "    hist.axis.Regular(50, -250, 250, name=\"X\", label=\"x [cm]\", flow=False),\n",
    "    hist.axis.Regular(50, -250, 250, name=\"Y\", label=\"y [cm]\", flow=False),\n",
    "    \n",
    ")\n",
    "h.fill(ak.to_numpy(ak.flatten(hit_x/10)),\n",
    "       ak.to_numpy(ak.flatten(hit_y/10)))\n",
    "h.plot()\n"
   ]
  },
  {
   "cell_type": "code",
   "execution_count": 18,
   "metadata": {},
   "outputs": [
    {
     "data": {
      "text/plain": [
       "[StepArtists(step=<matplotlib.lines.Line2D object at 0x7fce264dc6a0>, errorbar=None, legend_artist=None)]"
      ]
     },
     "execution_count": 18,
     "metadata": {},
     "output_type": "execute_result"
    },
    {
     "data": {
      "image/png": "[encoded data removed]",
      "text/plain": [
       "<Figure size 432x288 with 1 Axes>"
      ]
     },
     "metadata": {
      "needs_background": "light"
     },
     "output_type": "display_data"
    }
   ],
   "source": [
    "hit_z =tree['hit_z'].array(library='ak')\n",
    "\n",
    "hit_z=hit_z[filter_proton]\n",
    "\n",
    "h = Hist(\n",
    "    hist.axis.Regular(\n",
    "        50, -302, 20000, name=\"Z\", label=\"z [cm]\", underflow=False, overflow=False\n",
    "    ),\n",
    ")\n",
    "\n",
    "flatten_array = ak.flatten(hit_z/10)\n",
    "\n",
    "h.fill(ak.to_numpy(flatten_array))\n",
    "h.plot()"
   ]
  },
  {
   "cell_type": "code",
   "execution_count": 19,
   "metadata": {},
   "outputs": [],
   "source": [
    "hit_x =tree['hit_x'].array(library='ak')\n",
    "hit_y =tree['hit_y'].array(library='ak')\n",
    "hit_x=hit_x[filter_electron]\n",
    "hit_y=hit_y[filter_electron]"
   ]
  },
  {
   "cell_type": "code",
   "execution_count": 20,
   "metadata": {},
   "outputs": [
    {
     "data": {
      "text/plain": [
       "ColormeshArtists(pcolormesh=<matplotlib.collections.QuadMesh object at 0x7fce263c3fd0>, cbar=<matplotlib.colorbar.Colorbar object at 0x7fce2632b970>)"
      ]
     },
     "execution_count": 20,
     "metadata": {},
     "output_type": "execute_result"
    },
    {
     "data": {
      "image/png": "[encoded data removed]",
      "text/plain": [
       "<Figure size 432x288 with 2 Axes>"
      ]
     },
     "metadata": {
      "needs_background": "light"
     },
     "output_type": "display_data"
    }
   ],
   "source": [
    "h = Hist(\n",
    "    hist.axis.Regular(50, -250, 250, name=\"X\", label=\"x [cm]\", flow=False),\n",
    "    hist.axis.Regular(50, -250, 250, name=\"Y\", label=\"y [cm]\", flow=False),\n",
    "    \n",
    ")\n",
    "h.fill(ak.to_numpy(ak.flatten(hit_x/10)),\n",
    "       ak.to_numpy(ak.flatten(hit_y/10)))\n",
    "h.plot()\n"
   ]
  },
  {
   "cell_type": "code",
   "execution_count": 21,
   "metadata": {},
   "outputs": [
    {
     "data": {
      "text/plain": [
       "[StepArtists(step=<matplotlib.lines.Line2D object at 0x7fce2757d250>, errorbar=None, legend_artist=None)]"
      ]
     },
     "execution_count": 21,
     "metadata": {},
     "output_type": "execute_result"
    },
    {
     "data": {
      "image/png": "[encoded data removed]",
      "text/plain": [
       "<Figure size 432x288 with 1 Axes>"
      ]
     },
     "metadata": {
      "needs_background": "light"
     },
     "output_type": "display_data"
    }
   ],
   "source": [
    "hit_z =tree['hit_z'].array(library='ak')\n",
    "\n",
    "hit_z=hit_z[filter_electron]\n",
    "\n",
    "h = Hist(\n",
    "    hist.axis.Regular(\n",
    "        50, -302, 20000, name=\"Z\", label=\"z [cm]\", underflow=False, overflow=False\n",
    "    ),\n",
    ")\n",
    "\n",
    "flatten_array = ak.flatten(hit_z/10)\n",
    "\n",
    "h.fill(ak.to_numpy(flatten_array))\n",
    "h.plot()"
   ]
  },
  {
   "cell_type": "code",
   "execution_count": 22,
   "metadata": {},
   "outputs": [],
   "source": [
    "hit_x =tree['hit_x'].array(library='ak')\n",
    "hit_y =tree['hit_y'].array(library='ak')\n",
    "hit_x=hit_x[filter_pi]\n",
    "hit_y=hit_y[filter_pi]"
   ]
  },
  {
   "cell_type": "code",
   "execution_count": 23,
   "metadata": {
    "scrolled": true
   },
   "outputs": [
    {
     "data": {
      "text/plain": [
       "ColormeshArtists(pcolormesh=<matplotlib.collections.QuadMesh object at 0x7fce27675d00>, cbar=<matplotlib.colorbar.Colorbar object at 0x7fce27683130>)"
      ]
     },
     "execution_count": 23,
     "metadata": {},
     "output_type": "execute_result"
    },
    {
     "data": {
      "image/png": "[encoded data removed]",
      "text/plain": [
       "<Figure size 432x288 with 2 Axes>"
      ]
     },
     "metadata": {
      "needs_background": "light"
     },
     "output_type": "display_data"
    }
   ],
   "source": [
    "h = Hist(\n",
    "    hist.axis.Regular(50, -250, 250, name=\"X\", label=\"x [cm]\", flow=False),\n",
    "    hist.axis.Regular(50, -250, 250, name=\"Y\", label=\"y [cm]\", flow=False),\n",
    "    \n",
    ")\n",
    "h.fill(ak.to_numpy(ak.flatten(hit_x/10)),\n",
    "       ak.to_numpy(ak.flatten(hit_y/10)))\n",
    "h.plot()\n"
   ]
  },
  {
   "cell_type": "code",
   "execution_count": 24,
   "metadata": {},
   "outputs": [
    {
     "data": {
      "text/plain": [
       "[StepArtists(step=<matplotlib.lines.Line2D object at 0x7fce277db730>, errorbar=None, legend_artist=None)]"
      ]
     },
     "execution_count": 24,
     "metadata": {},
     "output_type": "execute_result"
    },
    {
     "data": {
      "image/png": "[encoded data removed]",
      "text/plain": [
       "<Figure size 432x288 with 1 Axes>"
      ]
     },
     "metadata": {
      "needs_background": "light"
     },
     "output_type": "display_data"
    }
   ],
   "source": [
    "hit_z =tree['hit_z'].array(library='ak')\n",
    "\n",
    "hit_z=hit_z[filter_pi]\n",
    "\n",
    "h = Hist(\n",
    "    hist.axis.Regular(\n",
    "        50, -302, 500, name=\"Z\", label=\"z [cm]\", underflow=False, overflow=False\n",
    "    ),\n",
    ")\n",
    "\n",
    "flatten_array = ak.flatten(hit_z/10)\n",
    "\n",
    "h.fill(ak.to_numpy(flatten_array))\n",
    "h.plot()"
   ]
  },
  {
   "cell_type": "code",
   "execution_count": 36,
   "metadata": {},
   "outputs": [
    {
     "data": {
      "text/plain": [
       "[StepArtists(step=<matplotlib.lines.Line2D object at 0x7fce27800370>, errorbar=None, legend_artist=None)]"
      ]
     },
     "execution_count": 36,
     "metadata": {},
     "output_type": "execute_result"
    },
    {
     "data": {
      "image/png": "[encoded data removed]",
      "text/plain": [
       "<Figure size 432x288 with 1 Axes>"
      ]
     },
     "metadata": {
      "needs_background": "light"
     },
     "output_type": "display_data"
    }
   ],
   "source": [
    "trk_mom=tree['trk_mom'].array(library='ak')\n",
    "h = Hist(\n",
    "    hist.axis.Regular(\n",
    "        50, -302, 500, name=\"location\", label=\"location from collision [cm]\", underflow=False, overflow=False\n",
    "    ),\n",
    ")\n",
    "\n",
    "flatten_array = ak.flatten(trk_mom/10)\n",
    "\n",
    "h.fill(ak.to_numpy(flatten_array))\n",
    "h.plot()"
   ]
  },
  {
   "cell_type": "code",
   "execution_count": 34,
   "metadata": {},
   "outputs": [
    {
     "data": {
      "text/plain": [
       "[StepArtists(step=<matplotlib.lines.Line2D object at 0x7fce28b19340>, errorbar=None, legend_artist=None)]"
      ]
     },
     "execution_count": 34,
     "metadata": {},
     "output_type": "execute_result"
    },
    {
     "data": {
      "image/png": "[encoded data removed]",
      "text/plain": [
       "<Figure size 432x288 with 1 Axes>"
      ]
     },
     "metadata": {
      "needs_background": "light"
     },
     "output_type": "display_data"
    }
   ],
   "source": [
    "trk_mom=tree['trk_mom'].array(library='ak')\n",
    "trk_mom=trk_mom[filter_proton]\n",
    "h = Hist(\n",
    "    hist.axis.Regular(\n",
    "        50, -302, 500, name=\"location\", label=\"location from collision [cm]\", underflow=False, overflow=False\n",
    "    ),\n",
    ")\n",
    "\n",
    "flatten_array = ak.flatten(trk_mom/10)\n",
    "\n",
    "h.fill(ak.to_numpy(flatten_array))\n",
    "h.plot()"
   ]
  },
  {
   "cell_type": "code",
   "execution_count": 35,
   "metadata": {},
   "outputs": [
    {
     "data": {
      "text/plain": [
       "[StepArtists(step=<matplotlib.lines.Line2D object at 0x7fce2645d0d0>, errorbar=None, legend_artist=None)]"
      ]
     },
     "execution_count": 35,
     "metadata": {},
     "output_type": "execute_result"
    },
    {
     "data": {
      "image/png": "[encoded data removed]",
      "text/plain": [
       "<Figure size 432x288 with 1 Axes>"
      ]
     },
     "metadata": {
      "needs_background": "light"
     },
     "output_type": "display_data"
    }
   ],
   "source": [
    "trk_mom=tree['trk_mom'].array(library='ak')\n",
    "trk_mom=trk_mom[filter_electron]\n",
    "h = Hist(\n",
    "    hist.axis.Regular(\n",
    "        50, -302, 500, name=\"location\", label=\"location from collision [cm]\", underflow=False, overflow=False\n",
    "    ),\n",
    ")\n",
    "\n",
    "flatten_array = ak.flatten(trk_mom/10)\n",
    "\n",
    "h.fill(ak.to_numpy(flatten_array))\n",
    "h.plot()"
   ]
  },
  {
   "cell_type": "code",
   "execution_count": 29,
   "metadata": {},
   "outputs": [
    {
     "ename": "ValueError",
     "evalue": "spans must have compatible lengths",
     "output_type": "error",
     "traceback": [
      "\u001b[0;31m---------------------------------------------------------------------------\u001b[0m",
      "\u001b[0;31mValueError\u001b[0m                                Traceback (most recent call last)",
      "\u001b[0;32m<ipython-input-29-0d8d0d1ad65c>\u001b[0m in \u001b[0;36m<module>\u001b[0;34m\u001b[0m\n\u001b[1;32m      4\u001b[0m \u001b[0;34m\u001b[0m\u001b[0m\n\u001b[1;32m      5\u001b[0m )\n\u001b[0;32m----> 6\u001b[0;31m h.fill(ak.to_numpy(ak.flatten(hit_y/10)),\n\u001b[0m\u001b[1;32m      7\u001b[0m        ak.to_numpy(ak.flatten(trk_mom/10)))\n\u001b[1;32m      8\u001b[0m \u001b[0mh\u001b[0m\u001b[0;34m.\u001b[0m\u001b[0mplot\u001b[0m\u001b[0;34m(\u001b[0m\u001b[0;34m)\u001b[0m\u001b[0;34m\u001b[0m\u001b[0;34m\u001b[0m\u001b[0m\n",
      "\u001b[0;32m/Library/Frameworks/Python.framework/Versions/3.8/lib/python3.8/site-packages/hist/basehist.py\u001b[0m in \u001b[0;36mfill\u001b[0;34m(self, weight, sample, threads, *args, **kwargs)\u001b[0m\n\u001b[1;32m    108\u001b[0m \u001b[0;34m\u001b[0m\u001b[0m\n\u001b[1;32m    109\u001b[0m         \u001b[0mtotal_data\u001b[0m \u001b[0;34m=\u001b[0m \u001b[0mtuple\u001b[0m\u001b[0;34m(\u001b[0m\u001b[0margs\u001b[0m\u001b[0;34m)\u001b[0m \u001b[0;34m+\u001b[0m \u001b[0mtuple\u001b[0m\u001b[0;34m(\u001b[0m\u001b[0mdata\u001b[0m\u001b[0;34m)\u001b[0m  \u001b[0;31m# Python 2 can't unpack twice\u001b[0m\u001b[0;34m\u001b[0m\u001b[0;34m\u001b[0m\u001b[0m\n\u001b[0;32m--> 110\u001b[0;31m         \u001b[0;32mreturn\u001b[0m \u001b[0msuper\u001b[0m\u001b[0;34m(\u001b[0m\u001b[0;34m)\u001b[0m\u001b[0;34m.\u001b[0m\u001b[0mfill\u001b[0m\u001b[0;34m(\u001b[0m\u001b[0;34m*\u001b[0m\u001b[0mtotal_data\u001b[0m\u001b[0;34m,\u001b[0m \u001b[0mweight\u001b[0m\u001b[0;34m=\u001b[0m\u001b[0mweight\u001b[0m\u001b[0;34m,\u001b[0m \u001b[0msample\u001b[0m\u001b[0;34m=\u001b[0m\u001b[0msample\u001b[0m\u001b[0;34m,\u001b[0m \u001b[0mthreads\u001b[0m\u001b[0;34m=\u001b[0m\u001b[0mthreads\u001b[0m\u001b[0;34m)\u001b[0m\u001b[0;34m\u001b[0m\u001b[0;34m\u001b[0m\u001b[0m\n\u001b[0m\u001b[1;32m    111\u001b[0m \u001b[0;34m\u001b[0m\u001b[0m\n\u001b[1;32m    112\u001b[0m     \u001b[0;32mdef\u001b[0m \u001b[0m_loc_shortcut\u001b[0m\u001b[0;34m(\u001b[0m\u001b[0mself\u001b[0m\u001b[0;34m,\u001b[0m \u001b[0mx\u001b[0m\u001b[0;34m)\u001b[0m\u001b[0;34m:\u001b[0m\u001b[0;34m\u001b[0m\u001b[0;34m\u001b[0m\u001b[0m\n",
      "\u001b[0;32m~/Library/Python/3.8/lib/python/site-packages/boost_histogram/_internal/hist.py\u001b[0m in \u001b[0;36mfill\u001b[0;34m(self, *args, **kwargs)\u001b[0m\n\u001b[1;32m    328\u001b[0m \u001b[0;34m\u001b[0m\u001b[0m\n\u001b[1;32m    329\u001b[0m         \u001b[0;32mif\u001b[0m \u001b[0mthreads\u001b[0m \u001b[0;32mis\u001b[0m \u001b[0;32mNone\u001b[0m \u001b[0;32mor\u001b[0m \u001b[0mthreads\u001b[0m \u001b[0;34m==\u001b[0m \u001b[0;36m1\u001b[0m\u001b[0;34m:\u001b[0m\u001b[0;34m\u001b[0m\u001b[0;34m\u001b[0m\u001b[0m\n\u001b[0;32m--> 330\u001b[0;31m             \u001b[0mself\u001b[0m\u001b[0;34m.\u001b[0m\u001b[0m_hist\u001b[0m\u001b[0;34m.\u001b[0m\u001b[0mfill\u001b[0m\u001b[0;34m(\u001b[0m\u001b[0;34m*\u001b[0m\u001b[0margs\u001b[0m\u001b[0;34m,\u001b[0m \u001b[0mweight\u001b[0m\u001b[0;34m=\u001b[0m\u001b[0mweight\u001b[0m\u001b[0;34m,\u001b[0m \u001b[0msample\u001b[0m\u001b[0;34m=\u001b[0m\u001b[0msample\u001b[0m\u001b[0;34m)\u001b[0m\u001b[0;34m\u001b[0m\u001b[0;34m\u001b[0m\u001b[0m\n\u001b[0m\u001b[1;32m    331\u001b[0m             \u001b[0;32mreturn\u001b[0m \u001b[0mself\u001b[0m\u001b[0;34m\u001b[0m\u001b[0;34m\u001b[0m\u001b[0m\n\u001b[1;32m    332\u001b[0m \u001b[0;34m\u001b[0m\u001b[0m\n",
      "\u001b[0;31mValueError\u001b[0m: spans must have compatible lengths"
     ]
    }
   ],
   "source": []
  },
  {
   "cell_type": "code",
   "execution_count": null,
   "metadata": {},
   "outputs": [],
   "source": []
  }
 ],
 "metadata": {
  "kernelspec": {
   "display_name": "Python 3",
   "language": "python",
   "name": "python3"
  },
  "language_info": {
   "codemirror_mode": {
    "name": "ipython",
    "version": 3
   },
   "file_extension": ".py",
   "mimetype": "text/x-python",
   "name": "python",
   "nbconvert_exporter": "python",
   "pygments_lexer": "ipython3",
   "version": "3.8.2"
  }
 },
 "nbformat": 4,
 "nbformat_minor": 4
}
