{
 "cells": [
  {
   "cell_type": "code",
   "execution_count": 2,
   "metadata": {},
   "outputs": [],
   "source": [
    "# !pip install --upgrade --user uproot4 awkward1 particle boost-histogram matplotlib mplhep pandas numexpr autograd hist hist[plot] humanize"
   ]
  },
  {
   "cell_type": "code",
   "execution_count": 3,
   "metadata": {},
   "outputs": [],
   "source": [
    "import uproot4\n",
    "from matplotlib import pyplot as p\n",
    "from hist import Hist\n",
    "import hist\n",
    "import awkward1 as ak\n",
    "import numpy as np\n",
    "import matplotlib.pyplot as plt\n",
    "from matplotlib.gridspec import GridSpec\n",
    "import matplotlib.image as mpimg\n",
    "\n",
    "\n",
    "from pprint import pprint\n"
   ]
  },
  {
   "cell_type": "code",
   "execution_count": 4,
   "metadata": {},
   "outputs": [],
   "source": [
    "file=uproot4.open(\"g4e_k_lambda_18on275_10k_l2.run.root\")"
   ]
  },
  {
   "cell_type": "code",
   "execution_count": 5,
   "metadata": {},
   "outputs": [
    {
     "name": "stdout",
     "output_type": "stream",
     "text": [
      "Number of entries: 1000\n",
      "name                 | typename                 | interpretation                \n",
      "---------------------+--------------------------+-------------------------------\n",
      "event_id             | uint64_t                 | AsDtype('>u8')\n",
      "evt_true_q2          | double                   | AsDtype('>f8')\n",
      "evt_true_x           | double                   | AsDtype('>f8')\n",
      "evt_true_y           | double                   | AsDtype('>f8')\n",
      "evt_true_w2          | double                   | AsDtype('>f8')\n",
      "evt_true_nu          | double                   | AsDtype('>f8')\n",
      "evt_true_t_hat       | double                   | AsDtype('>f8')\n",
      "evt_has_dis_info     | int8_t                   | AsDtype('int8')\n",
      "evt_weight           | double                   | AsDtype('>f8')\n",
      "hit_count            | uint64_t                 | AsDtype('>u8')\n",
      "hit_id               | std::vector<uint64_t>    | AsJagged(AsDtype('>u8'), he...\n",
      "hit_trk_id           | std::vector<uint64_t>    | AsJagged(AsDtype('>u8'), he...\n",
      "hit_trk_index        | std::vector<uint64_t>    | AsJagged(AsDtype('>u8'), he...\n",
      "hit_ptr_id           | std::vector<uint64_t>    | AsJagged(AsDtype('>u8'), he...\n",
      "hit_parent_trk_id    | std::vector<uint64_t>    | AsJagged(AsDtype('>u8'), he...\n",
      "hit_pdg              | std::vector<int64_t>     | AsJagged(AsDtype('>i8'), he...\n",
      "hit_vol_name         | std::vector<std::string> | AsObjects(AsVector(True, As...\n",
      "hit_x                | std::vector<double>      | AsJagged(AsDtype('>f8'), he...\n",
      "hit_y                | std::vector<double>      | AsJagged(AsDtype('>f8'), he...\n",
      "hit_z                | std::vector<double>      | AsJagged(AsDtype('>f8'), he...\n",
      "hit_type             | std::vector<uint64_t>    | AsJagged(AsDtype('>u8'), he...\n",
      "hit_i_rep            | std::vector<uint64_t>    | AsJagged(AsDtype('>u8'), he...\n",
      "hit_j_rep            | std::vector<uint64_t>    | AsJagged(AsDtype('>u8'), he...\n",
      "hit_e_loss           | std::vector<double>      | AsJagged(AsDtype('>f8'), he...\n",
      "trk_count            | uint64_t                 | AsDtype('>u8')\n",
      "trk_id               | std::vector<uint64_t>    | AsJagged(AsDtype('>u8'), he...\n",
      "trk_pdg              | std::vector<int64_t>     | AsJagged(AsDtype('>i8'), he...\n",
      "trk_parent_id        | std::vector<uint64_t>    | AsJagged(AsDtype('>u8'), he...\n",
      "trk_parent_index     | std::vector<uint64_t>    | AsJagged(AsDtype('>u8'), he...\n",
      "trk_create_proc      | std::vector<int64_t>     | AsJagged(AsDtype('>i8'), he...\n",
      "trk_level            | std::vector<uint64_t>    | AsJagged(AsDtype('>u8'), he...\n",
      "trk_vtx_x            | std::vector<double>      | AsJagged(AsDtype('>f8'), he...\n",
      "trk_vtx_y            | std::vector<double>      | AsJagged(AsDtype('>f8'), he...\n",
      "trk_vtx_z            | std::vector<double>      | AsJagged(AsDtype('>f8'), he...\n",
      "trk_vtx_dir_x        | std::vector<double>      | AsJagged(AsDtype('>f8'), he...\n",
      "trk_vtx_dir_y        | std::vector<double>      | AsJagged(AsDtype('>f8'), he...\n",
      "trk_vtx_dir_z        | std::vector<double>      | AsJagged(AsDtype('>f8'), he...\n",
      "trk_mom              | std::vector<double>      | AsJagged(AsDtype('>f8'), he...\n",
      "gen_prt_count        | uint64_t                 | AsDtype('>u8')\n",
      "gen_prt_id           | std::vector<uint64_t>    | AsJagged(AsDtype('>u8'), he...\n",
      "gen_prt_vtx_id       | std::vector<uint64_t>    | AsJagged(AsDtype('>u8'), he...\n",
      "gen_prt_vtx_index    | std::vector<uint64_t>    | AsJagged(AsDtype('>u8'), he...\n",
      "gen_prt_pdg          | std::vector<uint64_t>    | AsJagged(AsDtype('>u8'), he...\n",
      "gen_prt_trk_id       | std::vector<uint64_t>    | AsJagged(AsDtype('>u8'), he...\n",
      "gen_prt_trk_index    | std::vector<uint64_t>    | AsJagged(AsDtype('>u8'), he...\n",
      "gen_prt_charge       | std::vector<double>      | AsJagged(AsDtype('>f8'), he...\n",
      "gen_prt_dir_x        | std::vector<double>      | AsJagged(AsDtype('>f8'), he...\n",
      "gen_prt_dir_y        | std::vector<double>      | AsJagged(AsDtype('>f8'), he...\n",
      "gen_prt_dir_z        | std::vector<double>      | AsJagged(AsDtype('>f8'), he...\n",
      "gen_prt_tot_mom      | std::vector<double>      | AsJagged(AsDtype('>f8'), he...\n",
      "gen_prt_tot_e        | std::vector<double>      | AsJagged(AsDtype('>f8'), he...\n",
      "gen_prt_time         | std::vector<double>      | AsJagged(AsDtype('>f8'), he...\n",
      "gen_prt_polariz_x    | std::vector<double>      | AsJagged(AsDtype('>f8'), he...\n",
      "gen_prt_polariz_y    | std::vector<double>      | AsJagged(AsDtype('>f8'), he...\n",
      "gen_prt_polariz_z    | std::vector<double>      | AsJagged(AsDtype('>f8'), he...\n",
      "gen_vtx_count        | uint64_t                 | AsDtype('>u8')\n",
      "gen_vtx_id           | std::vector<uint64_t>    | AsJagged(AsDtype('>u8'), he...\n",
      "gen_vtx_part_count   | std::vector<uint64_t>    | AsJagged(AsDtype('>u8'), he...\n",
      "gen_vtx_x            | std::vector<double>      | AsJagged(AsDtype('>f8'), he...\n",
      "gen_vtx_y            | std::vector<double>      | AsJagged(AsDtype('>f8'), he...\n",
      "gen_vtx_z            | std::vector<double>      | AsJagged(AsDtype('>f8'), he...\n",
      "gen_vtx_time         | std::vector<double>      | AsJagged(AsDtype('>f8'), he...\n",
      "gen_vtx_weight       | std::vector<double>      | AsJagged(AsDtype('>f8'), he...\n",
      "ce_emcal_count       | uint64_t                 | AsDtype('>u8')\n",
      "ce_emcal_name        | std::vector<std::string> | AsObjects(AsVector(True, As...\n",
      "ce_emcal_id          | std::vector<int32_t>     | AsJagged(AsDtype('>i4'), he...\n",
      "ce_emcal_etot_dep    | std::vector<double>      | AsJagged(AsDtype('>f8'), he...\n",
      "ce_emcal_npe         | std::vector<int32_t>     | AsJagged(AsDtype('>i4'), he...\n",
      "ce_emcal_adc         | std::vector<double>      | AsJagged(AsDtype('>f8'), he...\n",
      "ce_emcal_tdc         | std::vector<double>      | AsJagged(AsDtype('>f8'), he...\n",
      "ce_emcal_xcrs        | std::vector<double>      | AsJagged(AsDtype('>f8'), he...\n",
      "ce_emcal_ycrs        | std::vector<double>      | AsJagged(AsDtype('>f8'), he...\n",
      "ce_emcal_zcrs        | std::vector<double>      | AsJagged(AsDtype('>f8'), he...\n",
      "ce_emcal_row         | std::vector<int32_t>     | AsJagged(AsDtype('>i4'), he...\n",
      "ce_emcal_col         | std::vector<int32_t>     | AsJagged(AsDtype('>i4'), he...\n",
      "ce_emcal_section     | std::vector<int32_t>     | AsJagged(AsDtype('>i4'), he...\n"
     ]
    }
   ],
   "source": [
    "tree = file[\"events\"]\n",
    "\n",
    "# Print number of entries\n",
    "print(f\"Number of entries: {tree.num_entries}\")\n",
    "\n",
    "# Uncomment this to see all values:\n",
    "tree.show()"
   ]
  },
  {
   "cell_type": "code",
   "execution_count": 22,
   "metadata": {},
   "outputs": [],
   "source": [
    "trk_mom = tree['trk_mom'].array(library='ak')\n",
    "trk_pdg = tree['trk_pdg'].array(library='ak')\n",
    "trk_vtx_dir_x = tree['trk_vtx_dir_x'].array(library='ak')\n",
    "trk_vtx_dir_y = tree['trk_vtx_dir_y'].array(library='ak')\n",
    "trk_vtx_dir_z = tree['trk_vtx_dir_z'].array(library='ak')"
   ]
  },
  {
   "cell_type": "code",
   "execution_count": 23,
   "outputs": [
    {
     "name": "stdout",
     "output_type": "stream",
     "text": [
      "328 328 328 328 328 328 328 328\n"
     ]
    }
   ],
   "source": [
    "filter_proton = trk_pdg==2212\n",
    "filter_pi = trk_pdg==-211\n",
    "\n",
    "single_prot_mom = trk_mom[filter_proton]\n",
    "single_pion_mom = trk_mom[filter_pi]\n",
    "\n",
    "single_prot_mom_x = single_prot_mom*trk_vtx_dir_x[filter_proton]\n",
    "single_prot_mom_y = single_prot_mom*trk_vtx_dir_y[filter_proton]\n",
    "single_prot_mom_z = single_prot_mom*trk_vtx_dir_z[filter_proton]\n",
    "\n",
    "single_pion_mom_x = single_pion_mom*trk_vtx_dir_x[filter_pi]\n",
    "single_pion_mom_y = single_pion_mom*trk_vtx_dir_y[filter_pi]\n",
    "single_pion_mom_z = single_pion_mom*trk_vtx_dir_z[filter_pi]\n",
    "\n",
    "# Converting to pairs and then to arrays aligned by pairs\n",
    "combo_ppi_mom = ak.cartesian([single_prot_mom, single_pion_mom])\n",
    "pair_prot_mom = ak.flatten(ak.unzip(combo_ppi_mom)[0])\n",
    "pair_pion_mom = ak.flatten(ak.unzip(combo_ppi_mom)[1])\n",
    "\n",
    "combo_ppi_mom_x = ak.cartesian([single_prot_mom_x, single_pion_mom_x])\n",
    "pair_prot_mom_x = ak.flatten(ak.unzip(combo_ppi_mom_x)[0])\n",
    "pair_pion_mom_x = ak.flatten(ak.unzip(combo_ppi_mom_x)[1])\n",
    "\n",
    "combo_ppi_mom_y = ak.cartesian([single_prot_mom_y, single_pion_mom_y])\n",
    "pair_prot_mom_y = ak.flatten(ak.unzip(combo_ppi_mom_y)[0])\n",
    "pair_pion_mom_y = ak.flatten(ak.unzip(combo_ppi_mom_y)[1])\n",
    "\n",
    "combo_ppi_mom_z = ak.cartesian([single_prot_mom_z, single_pion_mom_z])\n",
    "pair_prot_mom_z = ak.flatten(ak.unzip(combo_ppi_mom_z)[0])\n",
    "pair_pion_mom_z = ak.flatten(ak.unzip(combo_ppi_mom_z)[1])\n",
    "\n",
    "print(len(pair_prot_mom), len(pair_pion_mom), len(pair_prot_mom_x), len(pair_pion_mom_x), len(pair_pion_mom_y), len(pair_prot_mom_z), len(pair_pion_mom_z), len(pair_prot_mom_y))"
   ],
   "metadata": {
    "collapsed": false,
    "pycharm": {
     "name": "#%%\n"
    }
   }
  },
  {
   "cell_type": "code",
   "execution_count": 25,
   "outputs": [
    {
     "data": {
      "text/plain": "<Array [24.6, 22.5, 40.3, ... 51.5, 25.9, 37.7] type='328 * float64'>"
     },
     "execution_count": 25,
     "metadata": {},
     "output_type": "execute_result"
    }
   ],
   "source": [
    "prot_mass=0.93827\n",
    "pion_mass=0.1349\n",
    "\n",
    "prot_energy = np.sqrt( pair_prot_mom**2 + prot_mass**2 )\n",
    "pion_energy = np.sqrt( pair_pion_mom**2 + pion_mass**2 )\n",
    "\n",
    "prot_energy\n",
    "pion_energy"
   ],
   "metadata": {
    "collapsed": false,
    "pycharm": {
     "name": "#%%\n"
    }
   }
  },
  {
   "cell_type": "code",
   "execution_count": 26,
   "outputs": [],
   "source": [
    "lambda_mass = np.sqrt( (prot_energy + pion_energy)**2 - (pair_prot_mom_x + pair_pion_mom_x)**2  - (pair_prot_mom_y + pair_pion_mom_y)**2 - (pair_prot_mom_z + pair_pion_mom_z)**2 )\n",
    "lambda_mass\n"
   ],
   "metadata": {
    "collapsed": false,
    "pycharm": {
     "name": "#%%\n"
    }
   }
  },
  {
   "cell_type": "code",
   "execution_count": 27,
   "metadata": {},
   "outputs": [
    {
     "data": {
      "text/plain": "[StepArtists(step=<matplotlib.lines.Line2D object at 0x0000024C73D55188>, errorbar=<ErrorbarContainer object of 3 artists>, legend_artist=<ErrorbarContainer object of 3 artists>)]"
     },
     "execution_count": 27,
     "metadata": {},
     "output_type": "execute_result"
    },
    {
     "data": {
      "text/plain": "<Figure size 432x288 with 1 Axes>",
      "image/png": "[encoded data removed]"
     },
     "metadata": {
      "needs_background": "light"
     },
     "output_type": "display_data"
    }
   ],
   "source": [
    "h = Hist(\n",
    "    hist.axis.Regular(\n",
    "        50, 1.1, 1.12, name=\"lambda_mass\", label=\"Mass of #Lambda [GeV/c2]\", underflow=False, overflow=False\n",
    "    ),\n",
    ")\n",
    "\n",
    "\n",
    "\n",
    "h.fill(lambda_mass)\n",
    "h.plot()"
   ]
  },
  {
   "cell_type": "code",
   "execution_count": null,
   "metadata": {},
   "outputs": [],
   "source": [
    "MassLambda\n",
    "\n"
   ]
  },
  {
   "cell_type": "code",
   "execution_count": null,
   "metadata": {},
   "outputs": [],
   "source": [
    "print(Proton_Mom)"
   ]
  },
  {
   "cell_type": "code",
   "execution_count": null,
   "metadata": {},
   "outputs": [],
   "source": [
    "(E_proton + E_pion)**2"
   ]
  },
  {
   "cell_type": "code",
   "execution_count": null,
   "metadata": {},
   "outputs": [],
   "source": [
    "(Proton_momentum_x + Pion_momentum_x)**2"
   ]
  },
  {
   "cell_type": "code",
   "execution_count": null,
   "metadata": {},
   "outputs": [],
   "source": [
    "Proton_momentum_x + Pion_momentum_x"
   ]
  },
  {
   "cell_type": "code",
   "execution_count": null,
   "metadata": {},
   "outputs": [],
   "source": [
    "Proton_momentum_x"
   ]
  },
  {
   "cell_type": "code",
   "execution_count": null,
   "metadata": {},
   "outputs": [],
   "source": [
    "Pion_momentum_x"
   ]
  },
  {
   "cell_type": "code",
   "execution_count": null,
   "metadata": {},
   "outputs": [],
   "source": [
    "([10.3],[-0.866])+([10.6],[-1.44])"
   ]
  },
  {
   "cell_type": "code",
   "execution_count": null,
   "metadata": {},
   "outputs": [],
   "source": [
    "[10.3]"
   ]
  },
  {
   "cell_type": "code",
   "execution_count": null,
   "metadata": {},
   "outputs": [],
   "source": []
  },
  {
   "cell_type": "code",
   "execution_count": null,
   "metadata": {},
   "outputs": [],
   "source": []
  }
 ],
 "metadata": {
  "kernelspec": {
   "display_name": "Python 3",
   "language": "python",
   "name": "python3"
  },
  "language_info": {
   "codemirror_mode": {
    "name": "ipython",
    "version": 3
   },
   "file_extension": ".py",
   "mimetype": "text/x-python",
   "name": "python",
   "nbconvert_exporter": "python",
   "pygments_lexer": "ipython3",
   "version": "3.8.2"
  }
 },
 "nbformat": 4,
 "nbformat_minor": 4
}